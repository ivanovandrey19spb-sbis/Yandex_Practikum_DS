{
 "cells": [
  {
   "cell_type": "markdown",
   "id": "40816ade-0508-498c-b5d2-7b87c6788d5a",
   "metadata": {},
   "source": [
    "# Исследование надежности заемщиков"
   ]
  },
  {
   "cell_type": "markdown",
   "id": "df8111b2-f97c-438f-8ea8-2d34ff753cd3",
   "metadata": {},
   "source": [
    "**Заказчик** — кредитный отдел банка. \n",
    "\n",
    "**Задача** — разобраться, влияет ли семейное положение и количество детей клиента на факт погашения кредита в срок. \n",
    "\n",
    "**Входные данные от банка** — статистика о платёжеспособности клиентов.\n",
    "\n",
    "- Результаты исследования будут учтены при построении модели кредитного скоринга — оценки способности потенциального заёмщика вернуть кредит банку."
   ]
  },
  {
   "cell_type": "markdown",
   "id": "32641b55-8949-4fe8-af84-0b210a37741c",
   "metadata": {},
   "source": [
    "## Обзор данных"
   ]
  },
  {
   "cell_type": "code",
   "execution_count": 1,
   "id": "c37f4219-62c2-47a0-9159-8228a4a81c34",
   "metadata": {},
   "outputs": [],
   "source": [
    "import pandas as pd"
   ]
  },
  {
   "cell_type": "code",
   "execution_count": 2,
   "id": "5fc322eb-f46d-497f-aaec-0831f7dd2507",
   "metadata": {},
   "outputs": [],
   "source": [
    "try:\n",
    "    data = pd.read_csv('/datasets/data.csv')\n",
    "except:\n",
    "    data = pd.read_csv('https://code.s3.yandex.net/datasets/data.csv')"
   ]
  },
  {
   "cell_type": "code",
   "execution_count": 3,
   "id": "40e49ff8-2d47-4577-93d5-6fc063c0a149",
   "metadata": {},
   "outputs": [
    {
     "data": {
      "text/html": [
       "<div>\n",
       "<style scoped>\n",
       "    .dataframe tbody tr th:only-of-type {\n",
       "        vertical-align: middle;\n",
       "    }\n",
       "\n",
       "    .dataframe tbody tr th {\n",
       "        vertical-align: top;\n",
       "    }\n",
       "\n",
       "    .dataframe thead th {\n",
       "        text-align: right;\n",
       "    }\n",
       "</style>\n",
       "<table border=\"1\" class=\"dataframe\">\n",
       "  <thead>\n",
       "    <tr style=\"text-align: right;\">\n",
       "      <th></th>\n",
       "      <th>children</th>\n",
       "      <th>days_employed</th>\n",
       "      <th>dob_years</th>\n",
       "      <th>education</th>\n",
       "      <th>education_id</th>\n",
       "      <th>family_status</th>\n",
       "      <th>family_status_id</th>\n",
       "      <th>gender</th>\n",
       "      <th>income_type</th>\n",
       "      <th>debt</th>\n",
       "      <th>total_income</th>\n",
       "      <th>purpose</th>\n",
       "    </tr>\n",
       "  </thead>\n",
       "  <tbody>\n",
       "    <tr>\n",
       "      <th>0</th>\n",
       "      <td>1</td>\n",
       "      <td>-8437.673028</td>\n",
       "      <td>42</td>\n",
       "      <td>высшее</td>\n",
       "      <td>0</td>\n",
       "      <td>женат / замужем</td>\n",
       "      <td>0</td>\n",
       "      <td>F</td>\n",
       "      <td>сотрудник</td>\n",
       "      <td>0</td>\n",
       "      <td>253875.639453</td>\n",
       "      <td>покупка жилья</td>\n",
       "    </tr>\n",
       "    <tr>\n",
       "      <th>1</th>\n",
       "      <td>1</td>\n",
       "      <td>-4024.803754</td>\n",
       "      <td>36</td>\n",
       "      <td>среднее</td>\n",
       "      <td>1</td>\n",
       "      <td>женат / замужем</td>\n",
       "      <td>0</td>\n",
       "      <td>F</td>\n",
       "      <td>сотрудник</td>\n",
       "      <td>0</td>\n",
       "      <td>112080.014102</td>\n",
       "      <td>приобретение автомобиля</td>\n",
       "    </tr>\n",
       "    <tr>\n",
       "      <th>2</th>\n",
       "      <td>0</td>\n",
       "      <td>-5623.422610</td>\n",
       "      <td>33</td>\n",
       "      <td>Среднее</td>\n",
       "      <td>1</td>\n",
       "      <td>женат / замужем</td>\n",
       "      <td>0</td>\n",
       "      <td>M</td>\n",
       "      <td>сотрудник</td>\n",
       "      <td>0</td>\n",
       "      <td>145885.952297</td>\n",
       "      <td>покупка жилья</td>\n",
       "    </tr>\n",
       "    <tr>\n",
       "      <th>3</th>\n",
       "      <td>3</td>\n",
       "      <td>-4124.747207</td>\n",
       "      <td>32</td>\n",
       "      <td>среднее</td>\n",
       "      <td>1</td>\n",
       "      <td>женат / замужем</td>\n",
       "      <td>0</td>\n",
       "      <td>M</td>\n",
       "      <td>сотрудник</td>\n",
       "      <td>0</td>\n",
       "      <td>267628.550329</td>\n",
       "      <td>дополнительное образование</td>\n",
       "    </tr>\n",
       "    <tr>\n",
       "      <th>4</th>\n",
       "      <td>0</td>\n",
       "      <td>340266.072047</td>\n",
       "      <td>53</td>\n",
       "      <td>среднее</td>\n",
       "      <td>1</td>\n",
       "      <td>гражданский брак</td>\n",
       "      <td>1</td>\n",
       "      <td>F</td>\n",
       "      <td>пенсионер</td>\n",
       "      <td>0</td>\n",
       "      <td>158616.077870</td>\n",
       "      <td>сыграть свадьбу</td>\n",
       "    </tr>\n",
       "    <tr>\n",
       "      <th>5</th>\n",
       "      <td>0</td>\n",
       "      <td>-926.185831</td>\n",
       "      <td>27</td>\n",
       "      <td>высшее</td>\n",
       "      <td>0</td>\n",
       "      <td>гражданский брак</td>\n",
       "      <td>1</td>\n",
       "      <td>M</td>\n",
       "      <td>компаньон</td>\n",
       "      <td>0</td>\n",
       "      <td>255763.565419</td>\n",
       "      <td>покупка жилья</td>\n",
       "    </tr>\n",
       "    <tr>\n",
       "      <th>6</th>\n",
       "      <td>0</td>\n",
       "      <td>-2879.202052</td>\n",
       "      <td>43</td>\n",
       "      <td>высшее</td>\n",
       "      <td>0</td>\n",
       "      <td>женат / замужем</td>\n",
       "      <td>0</td>\n",
       "      <td>F</td>\n",
       "      <td>компаньон</td>\n",
       "      <td>0</td>\n",
       "      <td>240525.971920</td>\n",
       "      <td>операции с жильем</td>\n",
       "    </tr>\n",
       "    <tr>\n",
       "      <th>7</th>\n",
       "      <td>0</td>\n",
       "      <td>-152.779569</td>\n",
       "      <td>50</td>\n",
       "      <td>СРЕДНЕЕ</td>\n",
       "      <td>1</td>\n",
       "      <td>женат / замужем</td>\n",
       "      <td>0</td>\n",
       "      <td>M</td>\n",
       "      <td>сотрудник</td>\n",
       "      <td>0</td>\n",
       "      <td>135823.934197</td>\n",
       "      <td>образование</td>\n",
       "    </tr>\n",
       "    <tr>\n",
       "      <th>8</th>\n",
       "      <td>2</td>\n",
       "      <td>-6929.865299</td>\n",
       "      <td>35</td>\n",
       "      <td>ВЫСШЕЕ</td>\n",
       "      <td>0</td>\n",
       "      <td>гражданский брак</td>\n",
       "      <td>1</td>\n",
       "      <td>F</td>\n",
       "      <td>сотрудник</td>\n",
       "      <td>0</td>\n",
       "      <td>95856.832424</td>\n",
       "      <td>на проведение свадьбы</td>\n",
       "    </tr>\n",
       "    <tr>\n",
       "      <th>9</th>\n",
       "      <td>0</td>\n",
       "      <td>-2188.756445</td>\n",
       "      <td>41</td>\n",
       "      <td>среднее</td>\n",
       "      <td>1</td>\n",
       "      <td>женат / замужем</td>\n",
       "      <td>0</td>\n",
       "      <td>M</td>\n",
       "      <td>сотрудник</td>\n",
       "      <td>0</td>\n",
       "      <td>144425.938277</td>\n",
       "      <td>покупка жилья для семьи</td>\n",
       "    </tr>\n",
       "    <tr>\n",
       "      <th>10</th>\n",
       "      <td>2</td>\n",
       "      <td>-4171.483647</td>\n",
       "      <td>36</td>\n",
       "      <td>высшее</td>\n",
       "      <td>0</td>\n",
       "      <td>женат / замужем</td>\n",
       "      <td>0</td>\n",
       "      <td>M</td>\n",
       "      <td>компаньон</td>\n",
       "      <td>0</td>\n",
       "      <td>113943.491460</td>\n",
       "      <td>покупка недвижимости</td>\n",
       "    </tr>\n",
       "    <tr>\n",
       "      <th>11</th>\n",
       "      <td>0</td>\n",
       "      <td>-792.701887</td>\n",
       "      <td>40</td>\n",
       "      <td>среднее</td>\n",
       "      <td>1</td>\n",
       "      <td>женат / замужем</td>\n",
       "      <td>0</td>\n",
       "      <td>F</td>\n",
       "      <td>сотрудник</td>\n",
       "      <td>0</td>\n",
       "      <td>77069.234271</td>\n",
       "      <td>покупка коммерческой недвижимости</td>\n",
       "    </tr>\n",
       "    <tr>\n",
       "      <th>12</th>\n",
       "      <td>0</td>\n",
       "      <td>NaN</td>\n",
       "      <td>65</td>\n",
       "      <td>среднее</td>\n",
       "      <td>1</td>\n",
       "      <td>гражданский брак</td>\n",
       "      <td>1</td>\n",
       "      <td>M</td>\n",
       "      <td>пенсионер</td>\n",
       "      <td>0</td>\n",
       "      <td>NaN</td>\n",
       "      <td>сыграть свадьбу</td>\n",
       "    </tr>\n",
       "    <tr>\n",
       "      <th>13</th>\n",
       "      <td>0</td>\n",
       "      <td>-1846.641941</td>\n",
       "      <td>54</td>\n",
       "      <td>неоконченное высшее</td>\n",
       "      <td>2</td>\n",
       "      <td>женат / замужем</td>\n",
       "      <td>0</td>\n",
       "      <td>F</td>\n",
       "      <td>сотрудник</td>\n",
       "      <td>0</td>\n",
       "      <td>130458.228857</td>\n",
       "      <td>приобретение автомобиля</td>\n",
       "    </tr>\n",
       "    <tr>\n",
       "      <th>14</th>\n",
       "      <td>0</td>\n",
       "      <td>-1844.956182</td>\n",
       "      <td>56</td>\n",
       "      <td>высшее</td>\n",
       "      <td>0</td>\n",
       "      <td>гражданский брак</td>\n",
       "      <td>1</td>\n",
       "      <td>F</td>\n",
       "      <td>компаньон</td>\n",
       "      <td>1</td>\n",
       "      <td>165127.911772</td>\n",
       "      <td>покупка жилой недвижимости</td>\n",
       "    </tr>\n",
       "    <tr>\n",
       "      <th>15</th>\n",
       "      <td>1</td>\n",
       "      <td>-972.364419</td>\n",
       "      <td>26</td>\n",
       "      <td>среднее</td>\n",
       "      <td>1</td>\n",
       "      <td>женат / замужем</td>\n",
       "      <td>0</td>\n",
       "      <td>F</td>\n",
       "      <td>сотрудник</td>\n",
       "      <td>0</td>\n",
       "      <td>116820.904450</td>\n",
       "      <td>строительство собственной недвижимости</td>\n",
       "    </tr>\n",
       "    <tr>\n",
       "      <th>16</th>\n",
       "      <td>0</td>\n",
       "      <td>-1719.934226</td>\n",
       "      <td>35</td>\n",
       "      <td>среднее</td>\n",
       "      <td>1</td>\n",
       "      <td>женат / замужем</td>\n",
       "      <td>0</td>\n",
       "      <td>F</td>\n",
       "      <td>сотрудник</td>\n",
       "      <td>0</td>\n",
       "      <td>289202.704229</td>\n",
       "      <td>недвижимость</td>\n",
       "    </tr>\n",
       "    <tr>\n",
       "      <th>17</th>\n",
       "      <td>0</td>\n",
       "      <td>-2369.999720</td>\n",
       "      <td>33</td>\n",
       "      <td>высшее</td>\n",
       "      <td>0</td>\n",
       "      <td>гражданский брак</td>\n",
       "      <td>1</td>\n",
       "      <td>M</td>\n",
       "      <td>сотрудник</td>\n",
       "      <td>0</td>\n",
       "      <td>90410.586745</td>\n",
       "      <td>строительство недвижимости</td>\n",
       "    </tr>\n",
       "    <tr>\n",
       "      <th>18</th>\n",
       "      <td>0</td>\n",
       "      <td>400281.136913</td>\n",
       "      <td>53</td>\n",
       "      <td>среднее</td>\n",
       "      <td>1</td>\n",
       "      <td>вдовец / вдова</td>\n",
       "      <td>2</td>\n",
       "      <td>F</td>\n",
       "      <td>пенсионер</td>\n",
       "      <td>0</td>\n",
       "      <td>56823.777243</td>\n",
       "      <td>на покупку подержанного автомобиля</td>\n",
       "    </tr>\n",
       "    <tr>\n",
       "      <th>19</th>\n",
       "      <td>0</td>\n",
       "      <td>-10038.818549</td>\n",
       "      <td>48</td>\n",
       "      <td>СРЕДНЕЕ</td>\n",
       "      <td>1</td>\n",
       "      <td>в разводе</td>\n",
       "      <td>3</td>\n",
       "      <td>F</td>\n",
       "      <td>сотрудник</td>\n",
       "      <td>0</td>\n",
       "      <td>242831.107982</td>\n",
       "      <td>на покупку своего автомобиля</td>\n",
       "    </tr>\n",
       "  </tbody>\n",
       "</table>\n",
       "</div>"
      ],
      "text/plain": [
       "    children  days_employed  dob_years            education  education_id  \\\n",
       "0          1   -8437.673028         42               высшее             0   \n",
       "1          1   -4024.803754         36              среднее             1   \n",
       "2          0   -5623.422610         33              Среднее             1   \n",
       "3          3   -4124.747207         32              среднее             1   \n",
       "4          0  340266.072047         53              среднее             1   \n",
       "5          0    -926.185831         27               высшее             0   \n",
       "6          0   -2879.202052         43               высшее             0   \n",
       "7          0    -152.779569         50              СРЕДНЕЕ             1   \n",
       "8          2   -6929.865299         35               ВЫСШЕЕ             0   \n",
       "9          0   -2188.756445         41              среднее             1   \n",
       "10         2   -4171.483647         36               высшее             0   \n",
       "11         0    -792.701887         40              среднее             1   \n",
       "12         0            NaN         65              среднее             1   \n",
       "13         0   -1846.641941         54  неоконченное высшее             2   \n",
       "14         0   -1844.956182         56               высшее             0   \n",
       "15         1    -972.364419         26              среднее             1   \n",
       "16         0   -1719.934226         35              среднее             1   \n",
       "17         0   -2369.999720         33               высшее             0   \n",
       "18         0  400281.136913         53              среднее             1   \n",
       "19         0  -10038.818549         48              СРЕДНЕЕ             1   \n",
       "\n",
       "       family_status  family_status_id gender income_type  debt  \\\n",
       "0    женат / замужем                 0      F   сотрудник     0   \n",
       "1    женат / замужем                 0      F   сотрудник     0   \n",
       "2    женат / замужем                 0      M   сотрудник     0   \n",
       "3    женат / замужем                 0      M   сотрудник     0   \n",
       "4   гражданский брак                 1      F   пенсионер     0   \n",
       "5   гражданский брак                 1      M   компаньон     0   \n",
       "6    женат / замужем                 0      F   компаньон     0   \n",
       "7    женат / замужем                 0      M   сотрудник     0   \n",
       "8   гражданский брак                 1      F   сотрудник     0   \n",
       "9    женат / замужем                 0      M   сотрудник     0   \n",
       "10   женат / замужем                 0      M   компаньон     0   \n",
       "11   женат / замужем                 0      F   сотрудник     0   \n",
       "12  гражданский брак                 1      M   пенсионер     0   \n",
       "13   женат / замужем                 0      F   сотрудник     0   \n",
       "14  гражданский брак                 1      F   компаньон     1   \n",
       "15   женат / замужем                 0      F   сотрудник     0   \n",
       "16   женат / замужем                 0      F   сотрудник     0   \n",
       "17  гражданский брак                 1      M   сотрудник     0   \n",
       "18    вдовец / вдова                 2      F   пенсионер     0   \n",
       "19         в разводе                 3      F   сотрудник     0   \n",
       "\n",
       "     total_income                                 purpose  \n",
       "0   253875.639453                           покупка жилья  \n",
       "1   112080.014102                 приобретение автомобиля  \n",
       "2   145885.952297                           покупка жилья  \n",
       "3   267628.550329              дополнительное образование  \n",
       "4   158616.077870                         сыграть свадьбу  \n",
       "5   255763.565419                           покупка жилья  \n",
       "6   240525.971920                       операции с жильем  \n",
       "7   135823.934197                             образование  \n",
       "8    95856.832424                   на проведение свадьбы  \n",
       "9   144425.938277                 покупка жилья для семьи  \n",
       "10  113943.491460                    покупка недвижимости  \n",
       "11   77069.234271       покупка коммерческой недвижимости  \n",
       "12            NaN                         сыграть свадьбу  \n",
       "13  130458.228857                 приобретение автомобиля  \n",
       "14  165127.911772              покупка жилой недвижимости  \n",
       "15  116820.904450  строительство собственной недвижимости  \n",
       "16  289202.704229                            недвижимость  \n",
       "17   90410.586745              строительство недвижимости  \n",
       "18   56823.777243      на покупку подержанного автомобиля  \n",
       "19  242831.107982            на покупку своего автомобиля  "
      ]
     },
     "execution_count": 3,
     "metadata": {},
     "output_type": "execute_result"
    }
   ],
   "source": [
    "data.head(20)"
   ]
  },
  {
   "cell_type": "code",
   "execution_count": 4,
   "id": "4fe63887-bd5f-4d08-8a3c-a4a994bfdec3",
   "metadata": {},
   "outputs": [
    {
     "name": "stdout",
     "output_type": "stream",
     "text": [
      "<class 'pandas.core.frame.DataFrame'>\n",
      "RangeIndex: 21525 entries, 0 to 21524\n",
      "Data columns (total 12 columns):\n",
      " #   Column            Non-Null Count  Dtype  \n",
      "---  ------            --------------  -----  \n",
      " 0   children          21525 non-null  int64  \n",
      " 1   days_employed     19351 non-null  float64\n",
      " 2   dob_years         21525 non-null  int64  \n",
      " 3   education         21525 non-null  object \n",
      " 4   education_id      21525 non-null  int64  \n",
      " 5   family_status     21525 non-null  object \n",
      " 6   family_status_id  21525 non-null  int64  \n",
      " 7   gender            21525 non-null  object \n",
      " 8   income_type       21525 non-null  object \n",
      " 9   debt              21525 non-null  int64  \n",
      " 10  total_income      19351 non-null  float64\n",
      " 11  purpose           21525 non-null  object \n",
      "dtypes: float64(2), int64(5), object(5)\n",
      "memory usage: 2.0+ MB\n"
     ]
    }
   ],
   "source": [
    "data.info()"
   ]
  },
  {
   "cell_type": "markdown",
   "id": "d0bcc422-810c-4111-9f6c-de00a8ac023e",
   "metadata": {},
   "source": [
    "Данные имеют пропуски, категорийные признаки education, purpose требую доработки"
   ]
  },
  {
   "cell_type": "markdown",
   "id": "76929a55-d02e-4097-a142-0629b816924f",
   "metadata": {},
   "source": [
    "## Предобработка данных"
   ]
  },
  {
   "cell_type": "code",
   "execution_count": 5,
   "id": "a1aaab00-276d-49a1-b893-d6db8d1bed32",
   "metadata": {},
   "outputs": [
    {
     "data": {
      "text/plain": [
       "children               0\n",
       "days_employed       2174\n",
       "dob_years              0\n",
       "education              0\n",
       "education_id           0\n",
       "family_status          0\n",
       "family_status_id       0\n",
       "gender                 0\n",
       "income_type            0\n",
       "debt                   0\n",
       "total_income        2174\n",
       "purpose                0\n",
       "dtype: int64"
      ]
     },
     "execution_count": 5,
     "metadata": {},
     "output_type": "execute_result"
    }
   ],
   "source": [
    "data.isna().sum()"
   ]
  },
  {
   "cell_type": "markdown",
   "id": "c29db5a6-ab14-4d0c-b7ad-5156176aaa66",
   "metadata": {},
   "source": [
    "Заполним пропуски в total_income мерианным значением для этой группы"
   ]
  },
  {
   "cell_type": "code",
   "execution_count": 6,
   "id": "62cb022a-d051-4268-8b12-1a39c9b67317",
   "metadata": {},
   "outputs": [],
   "source": [
    "for t in data['income_type'].unique():\n",
    "    (data.loc[(data['income_type'] == t) & (data['total_income'].isna()), \n",
    "     'total_income']) = data.loc[(data['income_type'] == t), 'total_income'].median()"
   ]
  },
  {
   "cell_type": "markdown",
   "id": "0ddbf773-ddad-4774-ab2c-c4da032264cc",
   "metadata": {},
   "source": [
    "Заменим все отрицательные значения положительными в столбце `'days_employed'`"
   ]
  },
  {
   "cell_type": "code",
   "execution_count": 7,
   "id": "5a7e266e-35b6-4a2b-8e5a-e3e5b56fd351",
   "metadata": {},
   "outputs": [],
   "source": [
    "data['days_employed'] = data['days_employed'].abs()"
   ]
  },
  {
   "cell_type": "code",
   "execution_count": 8,
   "id": "9563200c-df32-467a-9dfd-06af14518c0b",
   "metadata": {},
   "outputs": [
    {
     "data": {
      "text/plain": [
       "income_type\n",
       "безработный        366413.652744\n",
       "в декрете            3296.759962\n",
       "госслужащий          2689.368353\n",
       "компаньон            1547.382223\n",
       "пенсионер          365213.306266\n",
       "предприниматель       520.848083\n",
       "сотрудник            1574.202821\n",
       "студент               578.751554\n",
       "Name: days_employed, dtype: float64"
      ]
     },
     "execution_count": 8,
     "metadata": {},
     "output_type": "execute_result"
    }
   ],
   "source": [
    "data.groupby('income_type')['days_employed'].agg('median')"
   ]
  },
  {
   "cell_type": "markdown",
   "id": "e0607a53-8171-4d54-bbfb-54a762df43e4",
   "metadata": {},
   "source": [
    "У двух типов (безработные и пенсионеры) получатся аномально большие значения, оставим их как есть."
   ]
  },
  {
   "cell_type": "markdown",
   "id": "d4f07d43-3aca-4496-b609-5ddb96fc6a93",
   "metadata": {},
   "source": [
    "Рассмотрим уникальные значения в столбце `'children'`"
   ]
  },
  {
   "cell_type": "code",
   "execution_count": 9,
   "id": "28ad58e9-1e52-4f21-acc6-fa2d7901e7d5",
   "metadata": {},
   "outputs": [
    {
     "data": {
      "text/plain": [
       "array([ 1,  0,  3,  2, -1,  4, 20,  5], dtype=int64)"
      ]
     },
     "execution_count": 9,
     "metadata": {},
     "output_type": "execute_result"
    }
   ],
   "source": [
    "data['children'].unique()"
   ]
  },
  {
   "cell_type": "markdown",
   "id": "a4855e3f-d5d7-4f79-a6d6-e8d43f839687",
   "metadata": {},
   "source": [
    "Исключим из рассмотрения строки со значением `'children'` -1 и 20"
   ]
  },
  {
   "cell_type": "code",
   "execution_count": 10,
   "id": "fafc5aff-ecc8-4069-bc23-895f113269d7",
   "metadata": {},
   "outputs": [],
   "source": [
    "data = data[(data['children'] != -1) & (data['children'] != 20)]"
   ]
  },
  {
   "cell_type": "code",
   "execution_count": 11,
   "id": "b3179054-61fd-4770-b4d2-aa4fe843868e",
   "metadata": {},
   "outputs": [
    {
     "data": {
      "text/plain": [
       "array([1, 0, 3, 2, 4, 5], dtype=int64)"
      ]
     },
     "execution_count": 11,
     "metadata": {},
     "output_type": "execute_result"
    }
   ],
   "source": [
    "data['children'].unique()"
   ]
  },
  {
   "cell_type": "markdown",
   "id": "ad1162b4-a7f9-4c49-9061-a127d349c907",
   "metadata": {},
   "source": [
    "Заполним пропуски в столбце `'days_employed'` медианными значениями по каждому типу занятости `'income_type'`. "
   ]
  },
  {
   "cell_type": "code",
   "execution_count": 12,
   "id": "88f1f79c-45be-49aa-81f0-ab764356d355",
   "metadata": {},
   "outputs": [],
   "source": [
    "for t in data['income_type'].unique():\n",
    "    data.loc[(data['income_type'] == t) & (data['days_employed'].isna()), 'days_employed'] = \\\n",
    "    data.loc[(data['income_type'] == t), 'days_employed'].median()"
   ]
  },
  {
   "cell_type": "code",
   "execution_count": 13,
   "id": "c3341b5e-e665-45bf-be31-20385805b13a",
   "metadata": {},
   "outputs": [
    {
     "data": {
      "text/plain": [
       "children            0\n",
       "days_employed       0\n",
       "dob_years           0\n",
       "education           0\n",
       "education_id        0\n",
       "family_status       0\n",
       "family_status_id    0\n",
       "gender              0\n",
       "income_type         0\n",
       "debt                0\n",
       "total_income        0\n",
       "purpose             0\n",
       "dtype: int64"
      ]
     },
     "execution_count": 13,
     "metadata": {},
     "output_type": "execute_result"
    }
   ],
   "source": [
    "data.isna().sum()"
   ]
  },
  {
   "cell_type": "markdown",
   "id": "d5d9c29c-363f-44e3-be9d-e4d92f934f9e",
   "metadata": {},
   "source": [
    "Все пропуски заполнены. Приведем данные в столбце `'total_income'` в целочисленный тип."
   ]
  },
  {
   "cell_type": "code",
   "execution_count": 14,
   "id": "5b04513f-10d9-41bc-a06a-bf440c7ff73c",
   "metadata": {},
   "outputs": [],
   "source": [
    "data['total_income'] = data['total_income'].astype(int)"
   ]
  },
  {
   "cell_type": "markdown",
   "id": "48c6212b-c13f-4efa-ae90-2abb2f476266",
   "metadata": {},
   "source": [
    "### Обработка дубликатов"
   ]
  },
  {
   "cell_type": "markdown",
   "id": "3d8bfe2d-0e97-45fd-a9db-aa87d54fb715",
   "metadata": {},
   "source": [
    "Обработаем неявные дубликаты в столбце education. В этом столбце есть одни и те же значения, но записанные по-разному: с использованием заглавных и строчных букв. Приведем их к нижнему регистру и удалим полные дубликаты. "
   ]
  },
  {
   "cell_type": "code",
   "execution_count": 15,
   "id": "cc259a20-114e-4de6-9483-751d93db6ba3",
   "metadata": {},
   "outputs": [],
   "source": [
    "data['education'] = data['education'].str.lower()"
   ]
  },
  {
   "cell_type": "code",
   "execution_count": 16,
   "id": "09da565f-54b7-4bee-b2b8-7fe105a61788",
   "metadata": {},
   "outputs": [
    {
     "data": {
      "text/plain": [
       "71"
      ]
     },
     "execution_count": 16,
     "metadata": {},
     "output_type": "execute_result"
    }
   ],
   "source": [
    "data.duplicated().sum()"
   ]
  },
  {
   "cell_type": "code",
   "execution_count": 17,
   "id": "2a5d81fa-838a-414a-8f36-a3c3116723df",
   "metadata": {},
   "outputs": [],
   "source": [
    "data = data.drop_duplicates()"
   ]
  },
  {
   "cell_type": "markdown",
   "id": "1525071f-9655-4d55-b99d-f6b9a8d55930",
   "metadata": {},
   "source": [
    "### Категоризация данных"
   ]
  },
  {
   "cell_type": "markdown",
   "id": "250b60f9-9ca1-4469-81ba-f4af30c1c392",
   "metadata": {},
   "source": [
    "На основании диапазонов, указанных ниже, создадим в датафрейме столбец `'total_income_category'` с категориями\n",
    "- 0–30000 — `'E'`;\n",
    "- 30001–50000 — `'D'`;\n",
    "- 50001–200000 — `'C'`;\n",
    "- 200001–1000000 — `'B'`;\n",
    "- 1000001 и выше — `'A'`."
   ]
  },
  {
   "cell_type": "code",
   "execution_count": 18,
   "id": "711d0d4a-22a9-4d78-a3f1-5a60eff4385a",
   "metadata": {},
   "outputs": [],
   "source": [
    "def categorize_income(income):\n",
    "    try:\n",
    "        if 0 <= income <= 30000:\n",
    "            return 'E'\n",
    "        elif 30001 <= income <= 50000:\n",
    "            return 'D'\n",
    "        elif 50001 <= income <= 200000:\n",
    "            return 'C'\n",
    "        elif 200001 <= income <= 1000000:\n",
    "            return 'B'\n",
    "        elif income >= 1000001:\n",
    "            return 'A'\n",
    "    except:\n",
    "        pass"
   ]
  },
  {
   "cell_type": "code",
   "execution_count": 19,
   "id": "feed0bfc-46e5-4095-b0c0-e644bdec0a7e",
   "metadata": {},
   "outputs": [],
   "source": [
    "data['total_income_category'] = data['total_income'].apply(categorize_income)"
   ]
  },
  {
   "cell_type": "markdown",
   "id": "d36f0c1c-65a8-4892-a3c4-ced3b102b7b5",
   "metadata": {},
   "source": [
    "Рассмотрим уникальных целей взятия кредита из столбца `'purpose'`."
   ]
  },
  {
   "cell_type": "code",
   "execution_count": 20,
   "id": "6d21d89a-3127-47f4-900e-59471094229d",
   "metadata": {},
   "outputs": [
    {
     "data": {
      "text/plain": [
       "array(['покупка жилья', 'приобретение автомобиля',\n",
       "       'дополнительное образование', 'сыграть свадьбу',\n",
       "       'операции с жильем', 'образование', 'на проведение свадьбы',\n",
       "       'покупка жилья для семьи', 'покупка недвижимости',\n",
       "       'покупка коммерческой недвижимости', 'покупка жилой недвижимости',\n",
       "       'строительство собственной недвижимости', 'недвижимость',\n",
       "       'строительство недвижимости', 'на покупку подержанного автомобиля',\n",
       "       'на покупку своего автомобиля',\n",
       "       'операции с коммерческой недвижимостью',\n",
       "       'строительство жилой недвижимости', 'жилье',\n",
       "       'операции со своей недвижимостью', 'автомобили',\n",
       "       'заняться образованием', 'сделка с подержанным автомобилем',\n",
       "       'получение образования', 'автомобиль', 'свадьба',\n",
       "       'получение дополнительного образования', 'покупка своего жилья',\n",
       "       'операции с недвижимостью', 'получение высшего образования',\n",
       "       'свой автомобиль', 'сделка с автомобилем',\n",
       "       'профильное образование', 'высшее образование',\n",
       "       'покупка жилья для сдачи', 'на покупку автомобиля', 'ремонт жилью',\n",
       "       'заняться высшим образованием'], dtype=object)"
      ]
     },
     "execution_count": 20,
     "metadata": {},
     "output_type": "execute_result"
    }
   ],
   "source": [
    "data['purpose'].unique()"
   ]
  },
  {
   "cell_type": "markdown",
   "id": "eb9e408a-388b-4122-8998-46737c8b55fc",
   "metadata": {},
   "source": [
    "Категиризируем данные из столбца `'purpose'` сформирует новый столбец `'purpose_category'`, на следующие категории\n",
    "- `'операции с автомобилем'`,\n",
    "- `'операции с недвижимостью'`,\n",
    "- `'проведение свадьбы'`,\n",
    "- `'получение образования'`."
   ]
  },
  {
   "cell_type": "code",
   "execution_count": 21,
   "id": "39fec377-6c36-48ca-bf10-5b194f5f2972",
   "metadata": {},
   "outputs": [],
   "source": [
    "def categorize_purpose(row):\n",
    "    try:\n",
    "        if 'автом' in row:\n",
    "            return 'операции с автомобилем'\n",
    "        elif 'жил' in row or 'недвиж' in row:\n",
    "            return 'операции с недвижимостью'\n",
    "        elif 'свад' in row:\n",
    "            return 'проведение свадьбы'\n",
    "        elif 'образов' in row:\n",
    "            return 'получение образования'\n",
    "    except:\n",
    "        return 'нет категории'"
   ]
  },
  {
   "cell_type": "code",
   "execution_count": 22,
   "id": "73874f63-4545-46e5-a51a-6740c58e9201",
   "metadata": {},
   "outputs": [],
   "source": [
    "data['purpose_category'] = data['purpose'].apply(categorize_purpose)"
   ]
  },
  {
   "cell_type": "markdown",
   "id": "b9dbc206-7dcb-470c-a089-b2fe6337406a",
   "metadata": {},
   "source": [
    "## Проверка гипотез"
   ]
  },
  {
   "cell_type": "markdown",
   "id": "0234cbe6-2c6b-48cf-9abe-a1e781f82506",
   "metadata": {},
   "source": [
    "### Зависимость между количеством детей и возвратом кредита в срок"
   ]
  },
  {
   "cell_type": "markdown",
   "id": "34336187-ffd1-42a6-8c88-c738d9d2bdf1",
   "metadata": {},
   "source": [
    "Определим средний процент клиентов допустивших просрочку по платежу:"
   ]
  },
  {
   "cell_type": "code",
   "execution_count": 23,
   "id": "5afff807-e5c6-4773-a8b3-e813aeabfa28",
   "metadata": {},
   "outputs": [
    {
     "data": {
      "text/plain": [
       "'Средний процент клиентов допустивших просрочку по платежу: 8.12%'"
      ]
     },
     "execution_count": 23,
     "metadata": {},
     "output_type": "execute_result"
    }
   ],
   "source": [
    "rows_number = data.shape[0]\n",
    "debt_sum = data.loc[data.loc[:,'debt'] == 1]['debt'].count()\n",
    "debt_all_mean = debt_sum / rows_number\n",
    "(f'Средний процент клиентов допустивших просрочку по платежу: {debt_all_mean:.2%}')"
   ]
  },
  {
   "cell_type": "markdown",
   "id": "9d30ff96-82e3-4768-8e1d-428b97165e60",
   "metadata": {},
   "source": [
    "Сделаем сводную таблицу по количеству детей и допущенным просрочкам. Ознакомимся с таблицей. "
   ]
  },
  {
   "cell_type": "code",
   "execution_count": 24,
   "id": "7ab3c3a1-f332-4f21-9a8c-166a1595833b",
   "metadata": {},
   "outputs": [
    {
     "data": {
      "text/html": [
       "<div>\n",
       "<style scoped>\n",
       "    .dataframe tbody tr th:only-of-type {\n",
       "        vertical-align: middle;\n",
       "    }\n",
       "\n",
       "    .dataframe tbody tr th {\n",
       "        vertical-align: top;\n",
       "    }\n",
       "\n",
       "    .dataframe thead th {\n",
       "        text-align: right;\n",
       "    }\n",
       "</style>\n",
       "<table border=\"1\" class=\"dataframe\">\n",
       "  <thead>\n",
       "    <tr style=\"text-align: right;\">\n",
       "      <th>debt</th>\n",
       "      <th>no_debt</th>\n",
       "      <th>have_debt</th>\n",
       "    </tr>\n",
       "    <tr>\n",
       "      <th>children</th>\n",
       "      <th></th>\n",
       "      <th></th>\n",
       "    </tr>\n",
       "  </thead>\n",
       "  <tbody>\n",
       "    <tr>\n",
       "      <th>0</th>\n",
       "      <td>13028.0</td>\n",
       "      <td>1063.0</td>\n",
       "    </tr>\n",
       "    <tr>\n",
       "      <th>1</th>\n",
       "      <td>4364.0</td>\n",
       "      <td>444.0</td>\n",
       "    </tr>\n",
       "    <tr>\n",
       "      <th>2</th>\n",
       "      <td>1858.0</td>\n",
       "      <td>194.0</td>\n",
       "    </tr>\n",
       "    <tr>\n",
       "      <th>3</th>\n",
       "      <td>303.0</td>\n",
       "      <td>27.0</td>\n",
       "    </tr>\n",
       "    <tr>\n",
       "      <th>4</th>\n",
       "      <td>37.0</td>\n",
       "      <td>4.0</td>\n",
       "    </tr>\n",
       "    <tr>\n",
       "      <th>5</th>\n",
       "      <td>9.0</td>\n",
       "      <td>0.0</td>\n",
       "    </tr>\n",
       "  </tbody>\n",
       "</table>\n",
       "</div>"
      ],
      "text/plain": [
       "debt      no_debt  have_debt\n",
       "children                    \n",
       "0         13028.0     1063.0\n",
       "1          4364.0      444.0\n",
       "2          1858.0      194.0\n",
       "3           303.0       27.0\n",
       "4            37.0        4.0\n",
       "5             9.0        0.0"
      ]
     },
     "metadata": {},
     "output_type": "display_data"
    }
   ],
   "source": [
    "data_pivot_children = data.pivot_table(index=['children'], columns='debt', \n",
    "                                       values='purpose_category', aggfunc='count')\n",
    "data_pivot_children = data_pivot_children.rename(columns={0: 'no_debt', 1: 'have_debt'})\n",
    "data_pivot_children['have_debt'] = data_pivot_children['have_debt'].fillna(value=0) \n",
    "display(data_pivot_children) "
   ]
  },
  {
   "cell_type": "markdown",
   "id": "c52d2cb1-ea6b-4839-bf02-34a1cf088a4f",
   "metadata": {},
   "source": [
    "В сводной таблице по количеству детей и допущенным просрочкам расчитаем общее количество клиентов по каждой категории и их доли.\n",
    "А также расчитаем **среднее значение просрочек по категории - mean**."
   ]
  },
  {
   "cell_type": "code",
   "execution_count": 25,
   "id": "19effbd1-c619-4a3a-9eb0-0f9d6251f699",
   "metadata": {},
   "outputs": [
    {
     "data": {
      "text/html": [
       "<div>\n",
       "<style scoped>\n",
       "    .dataframe tbody tr th:only-of-type {\n",
       "        vertical-align: middle;\n",
       "    }\n",
       "\n",
       "    .dataframe tbody tr th {\n",
       "        vertical-align: top;\n",
       "    }\n",
       "\n",
       "    .dataframe thead th {\n",
       "        text-align: right;\n",
       "    }\n",
       "</style>\n",
       "<table border=\"1\" class=\"dataframe\">\n",
       "  <thead>\n",
       "    <tr style=\"text-align: right;\">\n",
       "      <th>debt</th>\n",
       "      <th>no_debt</th>\n",
       "      <th>have_debt</th>\n",
       "      <th>total</th>\n",
       "      <th>part</th>\n",
       "      <th>mean</th>\n",
       "    </tr>\n",
       "    <tr>\n",
       "      <th>children</th>\n",
       "      <th></th>\n",
       "      <th></th>\n",
       "      <th></th>\n",
       "      <th></th>\n",
       "      <th></th>\n",
       "    </tr>\n",
       "  </thead>\n",
       "  <tbody>\n",
       "    <tr>\n",
       "      <th>0</th>\n",
       "      <td>13028.0</td>\n",
       "      <td>1063.0</td>\n",
       "      <td>14091.0</td>\n",
       "      <td>66.058788</td>\n",
       "      <td>7.543822</td>\n",
       "    </tr>\n",
       "    <tr>\n",
       "      <th>1</th>\n",
       "      <td>4364.0</td>\n",
       "      <td>444.0</td>\n",
       "      <td>4808.0</td>\n",
       "      <td>22.539965</td>\n",
       "      <td>9.234609</td>\n",
       "    </tr>\n",
       "    <tr>\n",
       "      <th>2</th>\n",
       "      <td>1858.0</td>\n",
       "      <td>194.0</td>\n",
       "      <td>2052.0</td>\n",
       "      <td>9.619802</td>\n",
       "      <td>9.454191</td>\n",
       "    </tr>\n",
       "    <tr>\n",
       "      <th>3</th>\n",
       "      <td>303.0</td>\n",
       "      <td>27.0</td>\n",
       "      <td>330.0</td>\n",
       "      <td>1.547044</td>\n",
       "      <td>8.181818</td>\n",
       "    </tr>\n",
       "    <tr>\n",
       "      <th>4</th>\n",
       "      <td>37.0</td>\n",
       "      <td>4.0</td>\n",
       "      <td>41.0</td>\n",
       "      <td>0.192209</td>\n",
       "      <td>9.756098</td>\n",
       "    </tr>\n",
       "    <tr>\n",
       "      <th>5</th>\n",
       "      <td>9.0</td>\n",
       "      <td>0.0</td>\n",
       "      <td>9.0</td>\n",
       "      <td>0.042192</td>\n",
       "      <td>0.000000</td>\n",
       "    </tr>\n",
       "  </tbody>\n",
       "</table>\n",
       "</div>"
      ],
      "text/plain": [
       "debt      no_debt  have_debt    total       part      mean\n",
       "children                                                  \n",
       "0         13028.0     1063.0  14091.0  66.058788  7.543822\n",
       "1          4364.0      444.0   4808.0  22.539965  9.234609\n",
       "2          1858.0      194.0   2052.0   9.619802  9.454191\n",
       "3           303.0       27.0    330.0   1.547044  8.181818\n",
       "4            37.0        4.0     41.0   0.192209  9.756098\n",
       "5             9.0        0.0      9.0   0.042192  0.000000"
      ]
     },
     "execution_count": 25,
     "metadata": {},
     "output_type": "execute_result"
    }
   ],
   "source": [
    "data_pivot_children['total'] = (data_pivot_children['no_debt'] \n",
    "                                + data_pivot_children['have_debt'])\n",
    "data_pivot_children['part'] = data_pivot_children['total'] * 100 / rows_number\n",
    "try:\n",
    "    data_pivot_children['mean'] = (data_pivot_children['have_debt'] *100 \n",
    "                                   /  data_pivot_children['total'])\n",
    "except:\n",
    "    data_pivot_children['mean'] = None\n",
    "data_pivot_children.head(10)"
   ]
  },
  {
   "cell_type": "markdown",
   "id": "60eac253-d725-4cab-a8bd-f509194c4ece",
   "metadata": {},
   "source": [
    "**Вывод:** \n",
    "\n",
    "Да есть зависимость между количеством детей и возвратом кредита в срок.\n",
    "\n",
    "- Категория \"без детей\" доля - 66.1% имеет значение просрочек 7.5%. Что на **0,6% лучше** среднего.\n",
    "- Категория \"с 1-м ребенком\" доля - 22.4% имеет значение просрочек 9.2%. Что на **1,1% ХУЖЕ** среднего.\n",
    "- Категория \"с 2-мя детьми\" доля - 9.6% имеет значение просрочек 9.5%. Что на **1,4% ХУЖЕ** среднего.\n",
    "- Категория \"с 3-мя детьми\" доля - 1.5% имеет значение просрочек 8.2%. Что совпадает со средним. По данной категории требуются дополнительные данные.\n",
    "- Категория \"с 4-мя детьми\" требуются дополнительные данные.\n",
    "- Категория \"с 5-ю детьми\" требуются дополнительные данные.\n",
    "\n",
    "Наблюдается резкий рост между категорией \"без детей\" и \"с 1-м ребенком\". Далее идет практически линейный рост просрочек с увеличением количества детей. Однозначно это можно утвержать для категорий с 1-м и 2-мя детьми.\n",
    "\n",
    "В целом с **увеличением количества детей у клиента вероятность просрочки возрастает.**"
   ]
  },
  {
   "cell_type": "markdown",
   "id": "50731557-e030-4a05-bef1-8831213fc845",
   "metadata": {},
   "source": [
    "### Зависимость между семейным положением и возвратом кредита в срок"
   ]
  },
  {
   "cell_type": "markdown",
   "id": "7f5d0f9d-2f22-4843-84eb-e0c34c18b2f1",
   "metadata": {},
   "source": [
    "Проверим корректность заполнения столбцов `'family_status_id'` и `'family_status'`. Создаем сводную таблицу."
   ]
  },
  {
   "cell_type": "code",
   "execution_count": 26,
   "id": "8f9f7f62-17f4-4d08-8e4c-d210badc373e",
   "metadata": {},
   "outputs": [
    {
     "data": {
      "text/html": [
       "<div>\n",
       "<style scoped>\n",
       "    .dataframe tbody tr th:only-of-type {\n",
       "        vertical-align: middle;\n",
       "    }\n",
       "\n",
       "    .dataframe tbody tr th {\n",
       "        vertical-align: top;\n",
       "    }\n",
       "\n",
       "    .dataframe thead th {\n",
       "        text-align: right;\n",
       "    }\n",
       "</style>\n",
       "<table border=\"1\" class=\"dataframe\">\n",
       "  <thead>\n",
       "    <tr style=\"text-align: right;\">\n",
       "      <th>family_status</th>\n",
       "      <th>Не женат / не замужем</th>\n",
       "      <th>в разводе</th>\n",
       "      <th>вдовец / вдова</th>\n",
       "      <th>гражданский брак</th>\n",
       "      <th>женат / замужем</th>\n",
       "    </tr>\n",
       "    <tr>\n",
       "      <th>family_status_id</th>\n",
       "      <th></th>\n",
       "      <th></th>\n",
       "      <th></th>\n",
       "      <th></th>\n",
       "      <th></th>\n",
       "    </tr>\n",
       "  </thead>\n",
       "  <tbody>\n",
       "    <tr>\n",
       "      <th>0</th>\n",
       "      <td>NaN</td>\n",
       "      <td>NaN</td>\n",
       "      <td>NaN</td>\n",
       "      <td>NaN</td>\n",
       "      <td>12261.0</td>\n",
       "    </tr>\n",
       "    <tr>\n",
       "      <th>1</th>\n",
       "      <td>NaN</td>\n",
       "      <td>NaN</td>\n",
       "      <td>NaN</td>\n",
       "      <td>4134.0</td>\n",
       "      <td>NaN</td>\n",
       "    </tr>\n",
       "    <tr>\n",
       "      <th>2</th>\n",
       "      <td>NaN</td>\n",
       "      <td>NaN</td>\n",
       "      <td>951.0</td>\n",
       "      <td>NaN</td>\n",
       "      <td>NaN</td>\n",
       "    </tr>\n",
       "    <tr>\n",
       "      <th>3</th>\n",
       "      <td>NaN</td>\n",
       "      <td>1189.0</td>\n",
       "      <td>NaN</td>\n",
       "      <td>NaN</td>\n",
       "      <td>NaN</td>\n",
       "    </tr>\n",
       "    <tr>\n",
       "      <th>4</th>\n",
       "      <td>2796.0</td>\n",
       "      <td>NaN</td>\n",
       "      <td>NaN</td>\n",
       "      <td>NaN</td>\n",
       "      <td>NaN</td>\n",
       "    </tr>\n",
       "  </tbody>\n",
       "</table>\n",
       "</div>"
      ],
      "text/plain": [
       "family_status     Не женат / не замужем  в разводе  вдовец / вдова  \\\n",
       "family_status_id                                                     \n",
       "0                                   NaN        NaN             NaN   \n",
       "1                                   NaN        NaN             NaN   \n",
       "2                                   NaN        NaN           951.0   \n",
       "3                                   NaN     1189.0             NaN   \n",
       "4                                2796.0        NaN             NaN   \n",
       "\n",
       "family_status     гражданский брак  женат / замужем  \n",
       "family_status_id                                     \n",
       "0                              NaN          12261.0  \n",
       "1                           4134.0              NaN  \n",
       "2                              NaN              NaN  \n",
       "3                              NaN              NaN  \n",
       "4                              NaN              NaN  "
      ]
     },
     "execution_count": 26,
     "metadata": {},
     "output_type": "execute_result"
    }
   ],
   "source": [
    "data_pivot_family_id = data.pivot_table(index=['family_status_id'], \n",
    "                                        columns='family_status', \n",
    "                                        values='purpose_category', \n",
    "                                        aggfunc='count')\n",
    "data_pivot_family_id"
   ]
  },
  {
   "cell_type": "markdown",
   "id": "56fb15cf-c567-4161-9187-f189e5df432e",
   "metadata": {},
   "source": [
    "Столбцы `'family_status_id'` и `'family_status'` заполненны корректно, в дальнейшем используем столбец `'family_status'`.\n",
    "\n",
    "Сделаем сводную таблицу по семейному положению и допущенным просрочкам. Ознакомимся с таблицей."
   ]
  },
  {
   "cell_type": "code",
   "execution_count": 27,
   "id": "094a0358-fa8a-4cbe-900a-e1aa292c5226",
   "metadata": {},
   "outputs": [
    {
     "data": {
      "text/html": [
       "<div>\n",
       "<style scoped>\n",
       "    .dataframe tbody tr th:only-of-type {\n",
       "        vertical-align: middle;\n",
       "    }\n",
       "\n",
       "    .dataframe tbody tr th {\n",
       "        vertical-align: top;\n",
       "    }\n",
       "\n",
       "    .dataframe thead th {\n",
       "        text-align: right;\n",
       "    }\n",
       "</style>\n",
       "<table border=\"1\" class=\"dataframe\">\n",
       "  <thead>\n",
       "    <tr style=\"text-align: right;\">\n",
       "      <th>debt</th>\n",
       "      <th>no_debt</th>\n",
       "      <th>have_debt</th>\n",
       "    </tr>\n",
       "    <tr>\n",
       "      <th>family_status</th>\n",
       "      <th></th>\n",
       "      <th></th>\n",
       "    </tr>\n",
       "  </thead>\n",
       "  <tbody>\n",
       "    <tr>\n",
       "      <th>Не женат / не замужем</th>\n",
       "      <td>2523</td>\n",
       "      <td>273</td>\n",
       "    </tr>\n",
       "    <tr>\n",
       "      <th>в разводе</th>\n",
       "      <td>1105</td>\n",
       "      <td>84</td>\n",
       "    </tr>\n",
       "    <tr>\n",
       "      <th>вдовец / вдова</th>\n",
       "      <td>888</td>\n",
       "      <td>63</td>\n",
       "    </tr>\n",
       "    <tr>\n",
       "      <th>гражданский брак</th>\n",
       "      <td>3749</td>\n",
       "      <td>385</td>\n",
       "    </tr>\n",
       "    <tr>\n",
       "      <th>женат / замужем</th>\n",
       "      <td>11334</td>\n",
       "      <td>927</td>\n",
       "    </tr>\n",
       "  </tbody>\n",
       "</table>\n",
       "</div>"
      ],
      "text/plain": [
       "debt                   no_debt  have_debt\n",
       "family_status                            \n",
       "Не женат / не замужем     2523        273\n",
       "в разводе                 1105         84\n",
       "вдовец / вдова             888         63\n",
       "гражданский брак          3749        385\n",
       "женат / замужем          11334        927"
      ]
     },
     "metadata": {},
     "output_type": "display_data"
    }
   ],
   "source": [
    "data_pivot_family = data.pivot_table(index=['family_status'], \n",
    "                                     columns='debt', \n",
    "                                     values='purpose_category', \n",
    "                                     aggfunc='count')\n",
    "data_pivot_family = data_pivot_family.rename(columns={0: 'no_debt', \n",
    "                                                      1: 'have_debt'}) \n",
    "display(data_pivot_family)"
   ]
  },
  {
   "cell_type": "markdown",
   "id": "934b7b64-648c-4719-b791-26aacb425e45",
   "metadata": {},
   "source": [
    "В сводной таблице по семейному положению и допущенным просрочкам расчитаем общее количество клиентов по каждой категории \n",
    "и их доли. А также расчитаем **среднее значение просрочек по категории - mean.**"
   ]
  },
  {
   "cell_type": "code",
   "execution_count": 28,
   "id": "64345437-a992-4768-a388-b0d0299e2a37",
   "metadata": {},
   "outputs": [
    {
     "data": {
      "text/html": [
       "<div>\n",
       "<style scoped>\n",
       "    .dataframe tbody tr th:only-of-type {\n",
       "        vertical-align: middle;\n",
       "    }\n",
       "\n",
       "    .dataframe tbody tr th {\n",
       "        vertical-align: top;\n",
       "    }\n",
       "\n",
       "    .dataframe thead th {\n",
       "        text-align: right;\n",
       "    }\n",
       "</style>\n",
       "<table border=\"1\" class=\"dataframe\">\n",
       "  <thead>\n",
       "    <tr style=\"text-align: right;\">\n",
       "      <th>debt</th>\n",
       "      <th>no_debt</th>\n",
       "      <th>have_debt</th>\n",
       "      <th>total</th>\n",
       "      <th>part</th>\n",
       "      <th>mean</th>\n",
       "    </tr>\n",
       "    <tr>\n",
       "      <th>family_status</th>\n",
       "      <th></th>\n",
       "      <th></th>\n",
       "      <th></th>\n",
       "      <th></th>\n",
       "      <th></th>\n",
       "    </tr>\n",
       "  </thead>\n",
       "  <tbody>\n",
       "    <tr>\n",
       "      <th>Не женат / не замужем</th>\n",
       "      <td>2523</td>\n",
       "      <td>273</td>\n",
       "      <td>2796</td>\n",
       "      <td>13.107684</td>\n",
       "      <td>9.763948</td>\n",
       "    </tr>\n",
       "    <tr>\n",
       "      <th>в разводе</th>\n",
       "      <td>1105</td>\n",
       "      <td>84</td>\n",
       "      <td>1189</td>\n",
       "      <td>5.574047</td>\n",
       "      <td>7.064760</td>\n",
       "    </tr>\n",
       "    <tr>\n",
       "      <th>вдовец / вдова</th>\n",
       "      <td>888</td>\n",
       "      <td>63</td>\n",
       "      <td>951</td>\n",
       "      <td>4.458300</td>\n",
       "      <td>6.624606</td>\n",
       "    </tr>\n",
       "    <tr>\n",
       "      <th>гражданский брак</th>\n",
       "      <td>3749</td>\n",
       "      <td>385</td>\n",
       "      <td>4134</td>\n",
       "      <td>19.380245</td>\n",
       "      <td>9.313014</td>\n",
       "    </tr>\n",
       "    <tr>\n",
       "      <th>женат / замужем</th>\n",
       "      <td>11334</td>\n",
       "      <td>927</td>\n",
       "      <td>12261</td>\n",
       "      <td>57.479724</td>\n",
       "      <td>7.560558</td>\n",
       "    </tr>\n",
       "  </tbody>\n",
       "</table>\n",
       "</div>"
      ],
      "text/plain": [
       "debt                   no_debt  have_debt  total       part      mean\n",
       "family_status                                                        \n",
       "Не женат / не замужем     2523        273   2796  13.107684  9.763948\n",
       "в разводе                 1105         84   1189   5.574047  7.064760\n",
       "вдовец / вдова             888         63    951   4.458300  6.624606\n",
       "гражданский брак          3749        385   4134  19.380245  9.313014\n",
       "женат / замужем          11334        927  12261  57.479724  7.560558"
      ]
     },
     "metadata": {},
     "output_type": "display_data"
    }
   ],
   "source": [
    "data_pivot_family['total'] =(data_pivot_family['no_debt'] \n",
    "                             + data_pivot_family['have_debt'])\n",
    "data_pivot_family['part'] = data_pivot_family['total'] * 100 / rows_number\n",
    "try:\n",
    "    data_pivot_family['mean'] = (data_pivot_family['have_debt'] * 100\n",
    "                                 / data_pivot_family['total'])\n",
    "except:\n",
    "    data_pivot_family['mean'] = None\n",
    "display(data_pivot_family)"
   ]
  },
  {
   "cell_type": "markdown",
   "id": "b61e66e0-c59c-482b-a05a-cbbee96dd571",
   "metadata": {},
   "source": [
    "**Вывод:** \n",
    "\n",
    "Да есть зависимость между семейным положением и возвратом кредита в срок.\n",
    "\n",
    "- Наибольшая доля клиентов 57.5% - категория \"женат / замужем\" имеет значение просрочек 7.6% что **лучше** среднего.\n",
    "- Категория \"вдовец / вдова\" доля - 4.5% имеет значение просрочек 6.6%. Что на **1,5% лучше** среднего.\n",
    "- Категория \"в разводе\" доля - 5.6% имеет значение просрочек 7.1%. Что на **1,0% лучше** среднего.\n",
    "- Категория \"гражданский брак\" доля - 19.4% имеет значение просрочек 9.3%. Что на **1,2% ХУЖЕ** среднего.\n",
    "- Категория \"Не женат / не замужем \" доля - 13.1% имеет значение просрочек 9.8%. Что на **1,7% ХУЖЕ** среднего.\n",
    "\n",
    "**Клиенты состоящие или состоявшие в браке реже допускают просрочку!**"
   ]
  },
  {
   "cell_type": "markdown",
   "id": "64ddcb2f-c17f-40a3-9424-9125761b1177",
   "metadata": {},
   "source": [
    "### Зависимость между уровнем дохода и возвратом кредита в срок"
   ]
  },
  {
   "cell_type": "markdown",
   "id": "1ef3dd21-63c0-463a-8f9f-f1efeee00550",
   "metadata": {},
   "source": [
    "Сделаем сводную таблицу по категории дохода и допущенным просрочкам. Ознакомимся с таблицей."
   ]
  },
  {
   "cell_type": "code",
   "execution_count": 29,
   "id": "2febacd3-5c40-4d38-9a53-614503327212",
   "metadata": {},
   "outputs": [
    {
     "data": {
      "text/html": [
       "<div>\n",
       "<style scoped>\n",
       "    .dataframe tbody tr th:only-of-type {\n",
       "        vertical-align: middle;\n",
       "    }\n",
       "\n",
       "    .dataframe tbody tr th {\n",
       "        vertical-align: top;\n",
       "    }\n",
       "\n",
       "    .dataframe thead th {\n",
       "        text-align: right;\n",
       "    }\n",
       "</style>\n",
       "<table border=\"1\" class=\"dataframe\">\n",
       "  <thead>\n",
       "    <tr style=\"text-align: right;\">\n",
       "      <th>debt</th>\n",
       "      <th>no_debt</th>\n",
       "      <th>have_debt</th>\n",
       "    </tr>\n",
       "    <tr>\n",
       "      <th>total_income_category</th>\n",
       "      <th></th>\n",
       "      <th></th>\n",
       "    </tr>\n",
       "  </thead>\n",
       "  <tbody>\n",
       "    <tr>\n",
       "      <th>A</th>\n",
       "      <td>23</td>\n",
       "      <td>2</td>\n",
       "    </tr>\n",
       "    <tr>\n",
       "      <th>B</th>\n",
       "      <td>4660</td>\n",
       "      <td>354</td>\n",
       "    </tr>\n",
       "    <tr>\n",
       "      <th>C</th>\n",
       "      <td>14568</td>\n",
       "      <td>1353</td>\n",
       "    </tr>\n",
       "    <tr>\n",
       "      <th>D</th>\n",
       "      <td>328</td>\n",
       "      <td>21</td>\n",
       "    </tr>\n",
       "    <tr>\n",
       "      <th>E</th>\n",
       "      <td>20</td>\n",
       "      <td>2</td>\n",
       "    </tr>\n",
       "  </tbody>\n",
       "</table>\n",
       "</div>"
      ],
      "text/plain": [
       "debt                   no_debt  have_debt\n",
       "total_income_category                    \n",
       "A                           23          2\n",
       "B                         4660        354\n",
       "C                        14568       1353\n",
       "D                          328         21\n",
       "E                           20          2"
      ]
     },
     "metadata": {},
     "output_type": "display_data"
    }
   ],
   "source": [
    "data_pivot_income = data.pivot_table(index=['total_income_category'], \n",
    "                                     columns='debt', \n",
    "                                     values='purpose_category', \n",
    "                                     aggfunc='count')\n",
    "data_pivot_income = data_pivot_income.rename(columns={0: 'no_debt', \n",
    "                                                      1: 'have_debt'}) \n",
    "display(data_pivot_income)"
   ]
  },
  {
   "cell_type": "markdown",
   "id": "f9ec5065-db3b-4b7d-8fef-3144144eba11",
   "metadata": {},
   "source": [
    "В сводной таблице по категории дохода и допущенным просрочкам расчитаем общее количество клиентов по каждой категории \n",
    "и их доли. А также расчитаем **среднее значение просрочек по категории - mean.**"
   ]
  },
  {
   "cell_type": "code",
   "execution_count": 30,
   "id": "4d67faf0-de28-425e-877a-dab1068e523b",
   "metadata": {},
   "outputs": [
    {
     "data": {
      "text/html": [
       "<div>\n",
       "<style scoped>\n",
       "    .dataframe tbody tr th:only-of-type {\n",
       "        vertical-align: middle;\n",
       "    }\n",
       "\n",
       "    .dataframe tbody tr th {\n",
       "        vertical-align: top;\n",
       "    }\n",
       "\n",
       "    .dataframe thead th {\n",
       "        text-align: right;\n",
       "    }\n",
       "</style>\n",
       "<table border=\"1\" class=\"dataframe\">\n",
       "  <thead>\n",
       "    <tr style=\"text-align: right;\">\n",
       "      <th>debt</th>\n",
       "      <th>no_debt</th>\n",
       "      <th>have_debt</th>\n",
       "      <th>total</th>\n",
       "      <th>part</th>\n",
       "      <th>mean</th>\n",
       "    </tr>\n",
       "    <tr>\n",
       "      <th>total_income_category</th>\n",
       "      <th></th>\n",
       "      <th></th>\n",
       "      <th></th>\n",
       "      <th></th>\n",
       "      <th></th>\n",
       "    </tr>\n",
       "  </thead>\n",
       "  <tbody>\n",
       "    <tr>\n",
       "      <th>A</th>\n",
       "      <td>23</td>\n",
       "      <td>2</td>\n",
       "      <td>25</td>\n",
       "      <td>0.117200</td>\n",
       "      <td>8.000000</td>\n",
       "    </tr>\n",
       "    <tr>\n",
       "      <th>B</th>\n",
       "      <td>4660</td>\n",
       "      <td>354</td>\n",
       "      <td>5014</td>\n",
       "      <td>23.505696</td>\n",
       "      <td>7.060231</td>\n",
       "    </tr>\n",
       "    <tr>\n",
       "      <th>C</th>\n",
       "      <td>14568</td>\n",
       "      <td>1353</td>\n",
       "      <td>15921</td>\n",
       "      <td>74.637851</td>\n",
       "      <td>8.498210</td>\n",
       "    </tr>\n",
       "    <tr>\n",
       "      <th>D</th>\n",
       "      <td>328</td>\n",
       "      <td>21</td>\n",
       "      <td>349</td>\n",
       "      <td>1.636116</td>\n",
       "      <td>6.017192</td>\n",
       "    </tr>\n",
       "    <tr>\n",
       "      <th>E</th>\n",
       "      <td>20</td>\n",
       "      <td>2</td>\n",
       "      <td>22</td>\n",
       "      <td>0.103136</td>\n",
       "      <td>9.090909</td>\n",
       "    </tr>\n",
       "  </tbody>\n",
       "</table>\n",
       "</div>"
      ],
      "text/plain": [
       "debt                   no_debt  have_debt  total       part      mean\n",
       "total_income_category                                                \n",
       "A                           23          2     25   0.117200  8.000000\n",
       "B                         4660        354   5014  23.505696  7.060231\n",
       "C                        14568       1353  15921  74.637851  8.498210\n",
       "D                          328         21    349   1.636116  6.017192\n",
       "E                           20          2     22   0.103136  9.090909"
      ]
     },
     "metadata": {},
     "output_type": "display_data"
    }
   ],
   "source": [
    "data_pivot_income['total'] = (data_pivot_income['no_debt'] \n",
    "                              + data_pivot_income['have_debt'])\n",
    "data_pivot_income['part'] = data_pivot_income['total'] * 100 / rows_number\n",
    "try:\n",
    "    data_pivot_income['mean'] = (data_pivot_income['have_debt'] *100 \n",
    "                                 / data_pivot_income['total'])\n",
    "except:\n",
    "    data_pivot_income['mean'] = None\n",
    "display(data_pivot_income)"
   ]
  },
  {
   "cell_type": "markdown",
   "id": "fb7b64a4-c320-4514-b178-86afd27cbe4c",
   "metadata": {},
   "source": [
    "**Вывод:** \n",
    "Да есть зависимость между уровнем дохода и возвратом кредита в срок.\n",
    "\n",
    "- Категория \"A\" - имеется всего 25 наблюдений, данных недостаточно. На сегодня- показатели средние.\n",
    "- Категория \"B\" - доля 23.5%. имеет значение просрочек 7.1%. Что на **1,0% лучше** среднего.\n",
    "- Категория \"C\" - доля 74.6%. имеет значение просрочек 8.5%. Что на **0,4% ХУЖЕ** среднего.\n",
    "- Категория \"D\" - доля 1.6%. имеет значение просрочек 6.0%. Что на **2,1% лучше** среднего. Нужны дололнительные данные.\n",
    "- Категория \"E\" - имеется всего 22 наблюдения, данных недостаточно. На сегодня- показатели хуже средних.\n",
    "\n",
    "В категориях \"B\" и \"C\" имеются достаточные ряды наблюдений. Выявлена прямая зависимость между доходом клиента и возвратом кредита в срок. \n",
    "\n",
    "**Чем больше доход клиента тем реже он допускает просрочки.** "
   ]
  },
  {
   "cell_type": "markdown",
   "id": "b810657b-f999-4292-be6f-1250f738840d",
   "metadata": {},
   "source": [
    "### Влияние цели кредита на его возврат в срок"
   ]
  },
  {
   "cell_type": "markdown",
   "id": "93adda4a-33ac-4611-a315-0fd42c19b729",
   "metadata": {},
   "source": [
    "Сделаем сводную таблицу по цели кредита и допущенным просрочкам. Ознакомимся с таблицей."
   ]
  },
  {
   "cell_type": "code",
   "execution_count": 31,
   "id": "9b094bde-db27-45bc-bb74-af35cddba88e",
   "metadata": {},
   "outputs": [
    {
     "data": {
      "text/html": [
       "<div>\n",
       "<style scoped>\n",
       "    .dataframe tbody tr th:only-of-type {\n",
       "        vertical-align: middle;\n",
       "    }\n",
       "\n",
       "    .dataframe tbody tr th {\n",
       "        vertical-align: top;\n",
       "    }\n",
       "\n",
       "    .dataframe thead th {\n",
       "        text-align: right;\n",
       "    }\n",
       "</style>\n",
       "<table border=\"1\" class=\"dataframe\">\n",
       "  <thead>\n",
       "    <tr style=\"text-align: right;\">\n",
       "      <th>debt</th>\n",
       "      <th>no_debt</th>\n",
       "      <th>have_debt</th>\n",
       "    </tr>\n",
       "    <tr>\n",
       "      <th>purpose_category</th>\n",
       "      <th></th>\n",
       "      <th></th>\n",
       "    </tr>\n",
       "  </thead>\n",
       "  <tbody>\n",
       "    <tr>\n",
       "      <th>операции с автомобилем</th>\n",
       "      <td>3879</td>\n",
       "      <td>400</td>\n",
       "    </tr>\n",
       "    <tr>\n",
       "      <th>операции с недвижимостью</th>\n",
       "      <td>9971</td>\n",
       "      <td>780</td>\n",
       "    </tr>\n",
       "    <tr>\n",
       "      <th>получение образования</th>\n",
       "      <td>3619</td>\n",
       "      <td>369</td>\n",
       "    </tr>\n",
       "    <tr>\n",
       "      <th>проведение свадьбы</th>\n",
       "      <td>2130</td>\n",
       "      <td>183</td>\n",
       "    </tr>\n",
       "  </tbody>\n",
       "</table>\n",
       "</div>"
      ],
      "text/plain": [
       "debt                      no_debt  have_debt\n",
       "purpose_category                            \n",
       "операции с автомобилем       3879        400\n",
       "операции с недвижимостью     9971        780\n",
       "получение образования        3619        369\n",
       "проведение свадьбы           2130        183"
      ]
     },
     "metadata": {},
     "output_type": "display_data"
    }
   ],
   "source": [
    "data_pivot_purpose = data.pivot_table(index=['purpose_category'], \n",
    "                                      columns='debt', \n",
    "                                      values='total_income_category', \n",
    "                                      aggfunc='count')\n",
    "data_pivot_purpose = data_pivot_purpose.rename(columns={0: 'no_debt', \n",
    "                                                        1: 'have_debt'}) \n",
    "display(data_pivot_purpose)"
   ]
  },
  {
   "cell_type": "markdown",
   "id": "58e69727-c733-404f-90ec-64165f378ab4",
   "metadata": {},
   "source": [
    "В сводной таблице по цели кредита и допущенным просрочкам расчитаем общее количество клиентов по каждой категории и их доли. А также расчитаем среднее значение просрочек по категории - mean."
   ]
  },
  {
   "cell_type": "code",
   "execution_count": 32,
   "id": "088cf770-4a4e-480f-862f-ca0d6c2bbab6",
   "metadata": {},
   "outputs": [
    {
     "data": {
      "text/html": [
       "<div>\n",
       "<style scoped>\n",
       "    .dataframe tbody tr th:only-of-type {\n",
       "        vertical-align: middle;\n",
       "    }\n",
       "\n",
       "    .dataframe tbody tr th {\n",
       "        vertical-align: top;\n",
       "    }\n",
       "\n",
       "    .dataframe thead th {\n",
       "        text-align: right;\n",
       "    }\n",
       "</style>\n",
       "<table border=\"1\" class=\"dataframe\">\n",
       "  <thead>\n",
       "    <tr style=\"text-align: right;\">\n",
       "      <th>debt</th>\n",
       "      <th>no_debt</th>\n",
       "      <th>have_debt</th>\n",
       "      <th>total</th>\n",
       "      <th>part</th>\n",
       "      <th>mean</th>\n",
       "    </tr>\n",
       "    <tr>\n",
       "      <th>purpose_category</th>\n",
       "      <th></th>\n",
       "      <th></th>\n",
       "      <th></th>\n",
       "      <th></th>\n",
       "      <th></th>\n",
       "    </tr>\n",
       "  </thead>\n",
       "  <tbody>\n",
       "    <tr>\n",
       "      <th>операции с автомобилем</th>\n",
       "      <td>3879</td>\n",
       "      <td>400</td>\n",
       "      <td>4279</td>\n",
       "      <td>20.060007</td>\n",
       "      <td>9.347978</td>\n",
       "    </tr>\n",
       "    <tr>\n",
       "      <th>операции с недвижимостью</th>\n",
       "      <td>9971</td>\n",
       "      <td>780</td>\n",
       "      <td>10751</td>\n",
       "      <td>50.400825</td>\n",
       "      <td>7.255139</td>\n",
       "    </tr>\n",
       "    <tr>\n",
       "      <th>получение образования</th>\n",
       "      <td>3619</td>\n",
       "      <td>369</td>\n",
       "      <td>3988</td>\n",
       "      <td>18.695795</td>\n",
       "      <td>9.252758</td>\n",
       "    </tr>\n",
       "    <tr>\n",
       "      <th>проведение свадьбы</th>\n",
       "      <td>2130</td>\n",
       "      <td>183</td>\n",
       "      <td>2313</td>\n",
       "      <td>10.843373</td>\n",
       "      <td>7.911803</td>\n",
       "    </tr>\n",
       "  </tbody>\n",
       "</table>\n",
       "</div>"
      ],
      "text/plain": [
       "debt                      no_debt  have_debt  total       part      mean\n",
       "purpose_category                                                        \n",
       "операции с автомобилем       3879        400   4279  20.060007  9.347978\n",
       "операции с недвижимостью     9971        780  10751  50.400825  7.255139\n",
       "получение образования        3619        369   3988  18.695795  9.252758\n",
       "проведение свадьбы           2130        183   2313  10.843373  7.911803"
      ]
     },
     "metadata": {},
     "output_type": "display_data"
    }
   ],
   "source": [
    "data_pivot_purpose['total'] = (data_pivot_purpose['no_debt'] \n",
    "                               + data_pivot_purpose['have_debt'])\n",
    "data_pivot_purpose['part'] = data_pivot_purpose['total'] * 100 / rows_number\n",
    "try:\n",
    "    data_pivot_purpose['mean'] = (data_pivot_purpose['have_debt'] *100 \n",
    "                                  / data_pivot_purpose['total'])\n",
    "except:\n",
    "    data_pivot_purpose['mean'] = None\n",
    "display(data_pivot_purpose)"
   ]
  },
  {
   "cell_type": "markdown",
   "id": "539bd0de-32cc-4e19-9ef2-f500dc2298e9",
   "metadata": {},
   "source": [
    "**Вывод:**\n",
    "Да есть зависимость между целью кредита и возвратом кредита в срок.\n",
    "\n",
    "- \"Операции с недвижимостью\" с долей 50.4% имеют долю просрочек 7.3%. Что на **0.8% лучше** среднего.\n",
    "- \"Проведение свадьбы\" с долей 10.8% имеют долю просрочек 7.9%.\n",
    "- \"Получение образования\" с долей 18.7%  и \"Операции с автомобилем\" с долей 20.1%  имеют долю просрочек 9.3%. Что на **1.2% ХУЖЕ** среднего.\n",
    "\n",
    "По займам на **\"Операции с недвижимостью\" и \"Проведение свадьбы\" реже допускаются просрочки чем на \"Получение образования\"  и \"Операции с автомобилем\".**"
   ]
  },
  {
   "cell_type": "markdown",
   "id": "2e911454-528b-4538-a916-c5cdfc5031dd",
   "metadata": {},
   "source": [
    "## Общий вывод"
   ]
  },
  {
   "cell_type": "markdown",
   "id": "071b5ca6-3a1f-491b-b2d4-ee81ac99ee04",
   "metadata": {},
   "source": [
    "В ходе предобработки данных были выполнены следующие действия:\n",
    "*  Пропуски в столбеце \"total_income\", который хранит данные о доходах, были заполнены медианными значениями с учетом типа занятости. Пропуски составляют ~ 10% от выборки что значительно и составляет почти половину от численности категории \"B\" по доходу. Это могло вовлиять на деление клиентов по категориям дохода. *(Средний уровень просрочек у строк с пропусками и без равен среднему по выборке)*  \n",
    "* Отрицательные значения \"days_employed\" - трудового стажа были заменены на абсолютные. Пропуски в столбеце, были заполнены медианными значениями с учетом типа занятости. Пропуски составляют ~ 10% от выборки.  Также в столбце есть аномальные значения показывающие стаж более 950 лет на клиента. На текущее исследование это не влияет.\n",
    "* Строки с аномальными значениями в столбце \"children\" были удалены. Удаленные строки составляют 0.9% выборки. На результаты исследования это не повлияло.\n",
    "* Столбец'education' очищен от дубликатов приведением к одинаковому регистру.\n",
    "* После этих манипуляций выявлен и удален 71 полный дубликат что соствляет 0.3% выборки.\n",
    "* Выполнена категоризация по уровню дохода на 5 категорий. И по цели займа на 4 категории.\n",
    "* Средний уровень просрочки: 8.12%\n",
    "\n",
    "Результаты: \n",
    "* Есть прямая зависимость просрочек от наличия и количества детей у клиента. Для бездетных уровень просрочки 7.5%, для 1-го ребенка уже 9.2% с последующим ростом.\n",
    "* Есть зависимость между семейным положением: состоящие или состоявшие в браке ~ на 2% реже допускают просрочку.\n",
    "* Выявлена прямая зависимость между доходом клиента и возвратом кредита в срок. Чем больше доход клиента тем стабильнее платежи. Это справедливо для диапазона 50 000 - 1 000 000.\n",
    "* По займам на \"Операции с недвижимостью\" и \"Проведение свадьбы\"  ~ на 2% реже допускаются просрочки чем на \"Получение образования\" и \"Операции с автомобилем\".\n",
    "\n",
    "Дополнительные наблюдения:\n",
    "*  По имеющимся на сегодня данным, с точки зрения своевременности платежей, категория \"D\" с  уровенем просрочек 6.0% - лучшая из всех групп. В то же время данных по ней недостаточно, нужен эксперимент и мониторинг."
   ]
  }
 ],
 "metadata": {
  "kernelspec": {
   "display_name": "Python 3 (ipykernel)",
   "language": "python",
   "name": "python3"
  },
  "language_info": {
   "codemirror_mode": {
    "name": "ipython",
    "version": 3
   },
   "file_extension": ".py",
   "mimetype": "text/x-python",
   "name": "python",
   "nbconvert_exporter": "python",
   "pygments_lexer": "ipython3",
   "version": "3.9.21"
  }
 },
 "nbformat": 4,
 "nbformat_minor": 5
}
