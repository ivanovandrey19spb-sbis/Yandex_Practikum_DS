{
 "cells": [
  {
   "cell_type": "markdown",
   "metadata": {},
   "source": [
    "# Проект для «Викишоп»"
   ]
  },
  {
   "cell_type": "markdown",
   "metadata": {},
   "source": [
    "Интернет-магазин «Викишоп» запускает новый сервис. Теперь пользователи могут редактировать и дополнять описания товаров, как в вики-сообществах. То есть клиенты предлагают свои правки и комментируют изменения других. Магазину нужен инструмент, который будет искать токсичные комментарии и отправлять их на модерацию. \n",
    "\n",
    "Обучите модель классифицировать комментарии на позитивные и негативные. В вашем распоряжении набор данных с разметкой о токсичности правок.\n",
    "\n",
    "Постройте модель со значением метрики качества *F1* не меньше 0.75. \n",
    "\n",
    "**Инструкция по выполнению проекта**\n",
    "\n",
    "1. Загрузите и подготовьте данные.\n",
    "2. Обучите разные модели. \n",
    "3. Сделайте выводы.\n",
    "\n",
    "Для выполнения проекта применять *BERT* необязательно, но вы можете попробовать.\n",
    "\n",
    "**Описание данных**\n",
    "\n",
    "Данные находятся в файле `toxic_comments.csv`. Столбец *text* в нём содержит текст комментария, а *toxic* — целевой признак."
   ]
  },
  {
   "cell_type": "markdown",
   "metadata": {},
   "source": [
    "## Подготовка"
   ]
  },
  {
   "cell_type": "code",
   "execution_count": 1,
   "metadata": {},
   "outputs": [],
   "source": [
    "!pip install -q scikit-learn==1.5.0\n",
    "!pip install -q catboost"
   ]
  },
  {
   "cell_type": "code",
   "execution_count": 2,
   "metadata": {},
   "outputs": [
    {
     "name": "stderr",
     "output_type": "stream",
     "text": [
      "[nltk_data] Downloading package stopwords to\n",
      "[nltk_data]     C:\\Users\\Ноут2\\AppData\\Roaming\\nltk_data...\n",
      "[nltk_data]   Package stopwords is already up-to-date!\n",
      "[nltk_data] Downloading package punkt to\n",
      "[nltk_data]     C:\\Users\\Ноут2\\AppData\\Roaming\\nltk_data...\n",
      "[nltk_data]   Package punkt is already up-to-date!\n",
      "[nltk_data] Downloading package wordnet to\n",
      "[nltk_data]     C:\\Users\\Ноут2\\AppData\\Roaming\\nltk_data...\n",
      "[nltk_data]   Package wordnet is already up-to-date!\n",
      "[nltk_data] Downloading package omw-1.4 to\n",
      "[nltk_data]     C:\\Users\\Ноут2\\AppData\\Roaming\\nltk_data...\n",
      "[nltk_data]   Package omw-1.4 is already up-to-date!\n",
      "[nltk_data] Downloading package averaged_perceptron_tagger to\n",
      "[nltk_data]     C:\\Users\\Ноут2\\AppData\\Roaming\\nltk_data...\n",
      "[nltk_data]   Package averaged_perceptron_tagger is already up-to-\n",
      "[nltk_data]       date!\n"
     ]
    },
    {
     "data": {
      "text/plain": [
       "True"
      ]
     },
     "execution_count": 2,
     "metadata": {},
     "output_type": "execute_result"
    }
   ],
   "source": [
    "import pandas as pd\n",
    "import numpy as np\n",
    "import matplotlib.pyplot as plt\n",
    "\n",
    "import sklearn\n",
    "from sklearn.metrics import (make_scorer, f1_score, classification_report, \n",
    "                             confusion_matrix, accuracy_score, precision_score, \n",
    "                            recall_score, roc_auc_score)\n",
    "from sklearn.linear_model import LogisticRegression \n",
    "from sklearn.model_selection import train_test_split, cross_val_predict, KFold, GridSearchCV\n",
    "from sklearn.tree import DecisionTreeClassifier \n",
    "from sklearn.ensemble import RandomForestClassifier  \n",
    "from sklearn.pipeline import Pipeline\n",
    "from sklearn.feature_selection import SelectKBest, f_classif\n",
    "from sklearn.feature_extraction.text import TfidfVectorizer\n",
    "from catboost import CatBoostClassifier #\n",
    "import gensim\n",
    "import gensim.downloader as api\n",
    "from gensim.models import Word2Vec, KeyedVectors\n",
    "import nltk\n",
    "from nltk.stem import WordNetLemmatizer\n",
    "from nltk.corpus import wordnet\n",
    "from nltk import pos_tag\n",
    "import re\n",
    "from typing import Dict, Iterable, List\n",
    "from tqdm import tqdm_notebook\n",
    "from tqdm.notebook import tqdm_notebook\n",
    "from tqdm.notebook import tqdm\n",
    "\n",
    "nltk.download(\"stopwords\")\n",
    "nltk.download(\"punkt\")\n",
    "nltk.download('wordnet')\n",
    "nltk.download('omw-1.4')\n",
    "nltk.download('averaged_perceptron_tagger')"
   ]
  },
  {
   "cell_type": "code",
   "execution_count": 3,
   "metadata": {},
   "outputs": [],
   "source": [
    "pd.options.display.max_columns = None"
   ]
  },
  {
   "cell_type": "code",
   "execution_count": 5,
   "metadata": {},
   "outputs": [
    {
     "data": {
      "text/html": [
       "<div>\n",
       "<style scoped>\n",
       "    .dataframe tbody tr th:only-of-type {\n",
       "        vertical-align: middle;\n",
       "    }\n",
       "\n",
       "    .dataframe tbody tr th {\n",
       "        vertical-align: top;\n",
       "    }\n",
       "\n",
       "    .dataframe thead th {\n",
       "        text-align: right;\n",
       "    }\n",
       "</style>\n",
       "<table border=\"1\" class=\"dataframe\">\n",
       "  <thead>\n",
       "    <tr style=\"text-align: right;\">\n",
       "      <th></th>\n",
       "      <th>Unnamed: 0</th>\n",
       "      <th>text</th>\n",
       "      <th>toxic</th>\n",
       "    </tr>\n",
       "  </thead>\n",
       "  <tbody>\n",
       "    <tr>\n",
       "      <th>0</th>\n",
       "      <td>0</td>\n",
       "      <td>Explanation\\nWhy the edits made under my usern...</td>\n",
       "      <td>0</td>\n",
       "    </tr>\n",
       "    <tr>\n",
       "      <th>1</th>\n",
       "      <td>1</td>\n",
       "      <td>D'aww! He matches this background colour I'm s...</td>\n",
       "      <td>0</td>\n",
       "    </tr>\n",
       "    <tr>\n",
       "      <th>2</th>\n",
       "      <td>2</td>\n",
       "      <td>Hey man, I'm really not trying to edit war. It...</td>\n",
       "      <td>0</td>\n",
       "    </tr>\n",
       "    <tr>\n",
       "      <th>3</th>\n",
       "      <td>3</td>\n",
       "      <td>\"\\nMore\\nI can't make any real suggestions on ...</td>\n",
       "      <td>0</td>\n",
       "    </tr>\n",
       "    <tr>\n",
       "      <th>4</th>\n",
       "      <td>4</td>\n",
       "      <td>You, sir, are my hero. Any chance you remember...</td>\n",
       "      <td>0</td>\n",
       "    </tr>\n",
       "  </tbody>\n",
       "</table>\n",
       "</div>"
      ],
      "text/plain": [
       "   Unnamed: 0                                               text  toxic\n",
       "0           0  Explanation\\nWhy the edits made under my usern...      0\n",
       "1           1  D'aww! He matches this background colour I'm s...      0\n",
       "2           2  Hey man, I'm really not trying to edit war. It...      0\n",
       "3           3  \"\\nMore\\nI can't make any real suggestions on ...      0\n",
       "4           4  You, sir, are my hero. Any chance you remember...      0"
      ]
     },
     "execution_count": 5,
     "metadata": {},
     "output_type": "execute_result"
    }
   ],
   "source": [
    "df.head()"
   ]
  },
  {
   "cell_type": "code",
   "execution_count": 6,
   "metadata": {},
   "outputs": [
    {
     "name": "stdout",
     "output_type": "stream",
     "text": [
      "<class 'pandas.core.frame.DataFrame'>\n",
      "RangeIndex: 159292 entries, 0 to 159291\n",
      "Data columns (total 3 columns):\n",
      " #   Column      Non-Null Count   Dtype \n",
      "---  ------      --------------   ----- \n",
      " 0   Unnamed: 0  159292 non-null  int64 \n",
      " 1   text        159292 non-null  object\n",
      " 2   toxic       159292 non-null  int64 \n",
      "dtypes: int64(2), object(1)\n",
      "memory usage: 3.6+ MB\n"
     ]
    }
   ],
   "source": [
    "df.info()"
   ]
  },
  {
   "cell_type": "markdown",
   "metadata": {},
   "source": [
    "Пропусков нет, Удалим столбец Unnamed: 0"
   ]
  },
  {
   "cell_type": "code",
   "execution_count": 7,
   "metadata": {},
   "outputs": [],
   "source": [
    "df = df.drop(['Unnamed: 0'],axis=1)"
   ]
  },
  {
   "cell_type": "code",
   "execution_count": 8,
   "metadata": {},
   "outputs": [
    {
     "data": {
      "image/png": "[encoded data removed]",
      "text/plain": [
       "<Figure size 1000x700 with 1 Axes>"
      ]
     },
     "metadata": {},
     "output_type": "display_data"
    }
   ],
   "source": [
    "list_of_columns_bar = ['toxic']\n",
    "for col in list_of_columns_bar:\n",
    "    ax = df.value_counts(subset=col, ascending=False, normalize=True).plot.bar(figsize=(10, 7)) #, grid=True\n",
    "    plt.title('График по столбцу '+col)\n",
    "    plt.xlabel(col)\n",
    "    plt.ylabel('Доля')\n",
    "    plt.show()"
   ]
  },
  {
   "cell_type": "markdown",
   "metadata": {},
   "source": [
    "Присутствует Дисбаланс классов"
   ]
  },
  {
   "cell_type": "markdown",
   "metadata": {},
   "source": [
    "### Предобработка текста"
   ]
  },
  {
   "cell_type": "code",
   "execution_count": 9,
   "metadata": {},
   "outputs": [],
   "source": [
    "text_dataset = df['text'].values"
   ]
  },
  {
   "cell_type": "markdown",
   "metadata": {},
   "source": [
    "- Оставляем только символы Латиницы\n",
    "- Лемматизируем с учетом части речи"
   ]
  },
  {
   "cell_type": "code",
   "execution_count": 10,
   "metadata": {},
   "outputs": [],
   "source": [
    "def tokenize(text):\n",
    "    return re.findall(\"[abcdefghijklmnopqrstuvwxyz]+\", text.lower())"
   ]
  },
  {
   "cell_type": "code",
   "execution_count": 11,
   "metadata": {},
   "outputs": [],
   "source": [
    "stopword_set = set(nltk.corpus.stopwords.words(\"english\"))"
   ]
  },
  {
   "cell_type": "code",
   "execution_count": 12,
   "metadata": {},
   "outputs": [],
   "source": [
    "def is_known_word(word):\n",
    "    return bool(wordnet.synsets(word))"
   ]
  },
  {
   "cell_type": "code",
   "execution_count": 13,
   "metadata": {},
   "outputs": [],
   "source": [
    "def get_wordnet_pos(treebank_tag):\n",
    "    if treebank_tag.startswith('J'):\n",
    "        return wordnet.ADJ\n",
    "    elif treebank_tag.startswith('V'):\n",
    "        return wordnet.VERB\n",
    "    elif treebank_tag.startswith('N'):\n",
    "        return wordnet.NOUN\n",
    "    elif treebank_tag.startswith('R'):\n",
    "        return wordnet.ADV\n",
    "    else:\n",
    "        return wordnet.NOUN  "
   ]
  },
  {
   "cell_type": "code",
   "execution_count": 14,
   "metadata": {},
   "outputs": [],
   "source": [
    "def lemmatize_with_pos(word):\n",
    "    pos = get_wordnet_pos(pos_tag([word])[0][1])  \n",
    "    return lemmatizer.lemmatize(word, pos=pos)"
   ]
  },
  {
   "cell_type": "code",
   "execution_count": 15,
   "metadata": {},
   "outputs": [],
   "source": [
    "lemmatizer = WordNetLemmatizer()\n",
    "lemmatizer_data = {}\n",
    "\n",
    "def lemmatize(word):\n",
    "    if is_known_word(word):\n",
    "        if word not in lemmatizer_data:\n",
    "            lemmatizer_data[word] = lemmatize_with_pos(word)\n",
    "        return lemmatizer_data[word]\n",
    "    return word"
   ]
  },
  {
   "cell_type": "code",
   "execution_count": 16,
   "metadata": {},
   "outputs": [],
   "source": [
    "def prepare_text(texts):\n",
    "    prepared_sentences = []\n",
    "    for text in tqdm(texts):\n",
    "        lemmatized_words = [lemmatize(word) for word in tokenize(text)]\n",
    "        # Убираем стоп-слова\n",
    "        filtered_words = [word for word in lemmatized_words if word not in stopword_set]\n",
    "        prepared_sentences.append(filtered_words)  \n",
    "    return prepared_sentences"
   ]
  },
  {
   "cell_type": "code",
   "execution_count": 17,
   "metadata": {},
   "outputs": [
    {
     "data": {
      "application/vnd.jupyter.widget-view+json": {
       "model_id": "072d968599884e9abeb8733055eb15b7",
       "version_major": 2,
       "version_minor": 0
      },
      "text/plain": [
       "  0%|          | 0/159292 [00:00<?, ?it/s]"
      ]
     },
     "metadata": {},
     "output_type": "display_data"
    }
   ],
   "source": [
    "text_dataset = prepare_text(text_dataset)"
   ]
  },
  {
   "cell_type": "markdown",
   "metadata": {},
   "source": [
    "Проверяем что количество строк соответсует исходному"
   ]
  },
  {
   "cell_type": "code",
   "execution_count": 18,
   "metadata": {},
   "outputs": [
    {
     "data": {
      "text/plain": [
       "159292"
      ]
     },
     "execution_count": 18,
     "metadata": {},
     "output_type": "execute_result"
    }
   ],
   "source": [
    "len(text_dataset)"
   ]
  },
  {
   "cell_type": "code",
   "execution_count": 19,
   "metadata": {},
   "outputs": [
    {
     "data": {
      "text/plain": [
       "True"
      ]
     },
     "execution_count": 19,
     "metadata": {},
     "output_type": "execute_result"
    }
   ],
   "source": [
    "len(text_dataset) == len(df[['toxic']])"
   ]
  },
  {
   "cell_type": "markdown",
   "metadata": {},
   "source": [
    "Оставляем очищенный текст и целевую переменную"
   ]
  },
  {
   "cell_type": "code",
   "execution_count": 20,
   "metadata": {},
   "outputs": [],
   "source": [
    "df['lem_text'] = [' '.join(words) for words in text_dataset]"
   ]
  },
  {
   "cell_type": "code",
   "execution_count": 21,
   "metadata": {},
   "outputs": [
    {
     "data": {
      "text/html": [
       "<div>\n",
       "<style scoped>\n",
       "    .dataframe tbody tr th:only-of-type {\n",
       "        vertical-align: middle;\n",
       "    }\n",
       "\n",
       "    .dataframe tbody tr th {\n",
       "        vertical-align: top;\n",
       "    }\n",
       "\n",
       "    .dataframe thead th {\n",
       "        text-align: right;\n",
       "    }\n",
       "</style>\n",
       "<table border=\"1\" class=\"dataframe\">\n",
       "  <thead>\n",
       "    <tr style=\"text-align: right;\">\n",
       "      <th></th>\n",
       "      <th>toxic</th>\n",
       "      <th>lem_text</th>\n",
       "    </tr>\n",
       "  </thead>\n",
       "  <tbody>\n",
       "    <tr>\n",
       "      <th>0</th>\n",
       "      <td>0</td>\n",
       "      <td>explanation edits make username hardcore metal...</td>\n",
       "    </tr>\n",
       "    <tr>\n",
       "      <th>1</th>\n",
       "      <td>0</td>\n",
       "      <td>aww match background colour seemingly stuck th...</td>\n",
       "    </tr>\n",
       "    <tr>\n",
       "      <th>2</th>\n",
       "      <td>0</td>\n",
       "      <td>hey man really try edit war guy constantly rem...</td>\n",
       "    </tr>\n",
       "    <tr>\n",
       "      <th>3</th>\n",
       "      <td>0</td>\n",
       "      <td>make real suggestion improvement wonder sectio...</td>\n",
       "    </tr>\n",
       "    <tr>\n",
       "      <th>4</th>\n",
       "      <td>0</td>\n",
       "      <td>sir hero chance remember page</td>\n",
       "    </tr>\n",
       "  </tbody>\n",
       "</table>\n",
       "</div>"
      ],
      "text/plain": [
       "   toxic                                           lem_text\n",
       "0      0  explanation edits make username hardcore metal...\n",
       "1      0  aww match background colour seemingly stuck th...\n",
       "2      0  hey man really try edit war guy constantly rem...\n",
       "3      0  make real suggestion improvement wonder sectio...\n",
       "4      0                      sir hero chance remember page"
      ]
     },
     "execution_count": 21,
     "metadata": {},
     "output_type": "execute_result"
    }
   ],
   "source": [
    "df = df.drop('text', axis=1)\n",
    "df.head()"
   ]
  },
  {
   "cell_type": "markdown",
   "metadata": {},
   "source": [
    "Удалем дубликаты"
   ]
  },
  {
   "cell_type": "code",
   "execution_count": 22,
   "metadata": {},
   "outputs": [
    {
     "data": {
      "text/plain": [
       "1923"
      ]
     },
     "execution_count": 22,
     "metadata": {},
     "output_type": "execute_result"
    }
   ],
   "source": [
    "df.duplicated().sum()"
   ]
  },
  {
   "cell_type": "code",
   "execution_count": 23,
   "metadata": {},
   "outputs": [],
   "source": [
    "df.drop_duplicates(inplace=True)"
   ]
  },
  {
   "cell_type": "markdown",
   "metadata": {},
   "source": [
    "## Обучение"
   ]
  },
  {
   "cell_type": "markdown",
   "metadata": {},
   "source": [
    "### Подготовка к обучению"
   ]
  },
  {
   "cell_type": "code",
   "execution_count": 24,
   "metadata": {},
   "outputs": [],
   "source": [
    "X = df['lem_text']\n",
    "y = df['toxic']"
   ]
  },
  {
   "cell_type": "markdown",
   "metadata": {},
   "source": [
    "Делим на тренировочную и тестовую выборки со стратификацией по 'toxic'"
   ]
  },
  {
   "cell_type": "code",
   "execution_count": 25,
   "metadata": {},
   "outputs": [
    {
     "name": "stdout",
     "output_type": "stream",
     "text": [
      "(31474,) (31474,) 3197\n",
      "(125895,) (125895,) 12786\n"
     ]
    }
   ],
   "source": [
    "X_train, X_test, y_train, y_test = train_test_split(X, y, test_size=0.2, stratify=y, random_state=42)\n",
    "print (X_test.shape, y_test.shape, y_test.sum())\n",
    "print (X_train.shape, y_train.shape, y_train.sum())"
   ]
  },
  {
   "cell_type": "markdown",
   "metadata": {},
   "source": [
    "Пропорции по классу сохраняются"
   ]
  },
  {
   "cell_type": "markdown",
   "metadata": {},
   "source": [
    "### Непосредственно обучение"
   ]
  },
  {
   "cell_type": "markdown",
   "metadata": {},
   "source": [
    "Дерево и лес не справились и долго считались поэтому закомментированы\n",
    "\n",
    "Выполняем TF-IDF преобразование в Pipeline, стоп слова удалять не будем - так выше точность."
   ]
  },
  {
   "cell_type": "code",
   "execution_count": 26,
   "metadata": {},
   "outputs": [],
   "source": [
    "pipe = Pipeline([\n",
    "    (\"tfidf\", TfidfVectorizer(ngram_range=(1, 2), max_df=0.9, min_df=2, stop_words=None)),\n",
    "    (\"selector\", SelectKBest(score_func=f_classif)),\n",
    "    (\"classifier\", LogisticRegression()) \n",
    "])"
   ]
  },
  {
   "cell_type": "code",
   "execution_count": 27,
   "metadata": {},
   "outputs": [],
   "source": [
    "param_grid = [\n",
    "    {\n",
    "        \"selector__k\": range(35000, 265000, 5000), \n",
    "        \"classifier\": [LogisticRegression(random_state=42, class_weight=\"balanced\")],\n",
    "        \"classifier__C\": [10] \n",
    "    },\n",
    "    {\n",
    "        \"selector__k\": [700, 750, 800], \n",
    "        \"classifier\": [CatBoostClassifier(verbose=100, random_state=42)],\n",
    "        \"classifier__depth\": [5],\n",
    "        \"classifier__iterations\": [1000],\n",
    "        \"classifier__learning_rate\": [0.2]\n",
    "    }\n",
    "]"
   ]
  },
  {
   "cell_type": "code",
   "execution_count": 28,
   "metadata": {},
   "outputs": [],
   "source": [
    "grid = GridSearchCV(\n",
    "    pipe,\n",
    "    param_grid,\n",
    "    scoring=make_scorer(f1_score),\n",
    "    cv=3,\n",
    "    verbose=2,\n",
    "    n_jobs=-1\n",
    ")"
   ]
  },
  {
   "cell_type": "code",
   "execution_count": 29,
   "metadata": {},
   "outputs": [
    {
     "name": "stdout",
     "output_type": "stream",
     "text": [
      "Fitting 3 folds for each of 49 candidates, totalling 147 fits\n"
     ]
    },
    {
     "data": {
      "text/html": [
       "<style>#sk-container-id-1 {\n",
       "  /* Definition of color scheme common for light and dark mode */\n",
       "  --sklearn-color-text: black;\n",
       "  --sklearn-color-line: gray;\n",
       "  /* Definition of color scheme for unfitted estimators */\n",
       "  --sklearn-color-unfitted-level-0: #fff5e6;\n",
       "  --sklearn-color-unfitted-level-1: #f6e4d2;\n",
       "  --sklearn-color-unfitted-level-2: #ffe0b3;\n",
       "  --sklearn-color-unfitted-level-3: chocolate;\n",
       "  /* Definition of color scheme for fitted estimators */\n",
       "  --sklearn-color-fitted-level-0: #f0f8ff;\n",
       "  --sklearn-color-fitted-level-1: #d4ebff;\n",
       "  --sklearn-color-fitted-level-2: #b3dbfd;\n",
       "  --sklearn-color-fitted-level-3: cornflowerblue;\n",
       "\n",
       "  /* Specific color for light theme */\n",
       "  --sklearn-color-text-on-default-background: var(--sg-text-color, var(--theme-code-foreground, var(--jp-content-font-color1, black)));\n",
       "  --sklearn-color-background: var(--sg-background-color, var(--theme-background, var(--jp-layout-color0, white)));\n",
       "  --sklearn-color-border-box: var(--sg-text-color, var(--theme-code-foreground, var(--jp-content-font-color1, black)));\n",
       "  --sklearn-color-icon: #696969;\n",
       "\n",
       "  @media (prefers-color-scheme: dark) {\n",
       "    /* Redefinition of color scheme for dark theme */\n",
       "    --sklearn-color-text-on-default-background: var(--sg-text-color, var(--theme-code-foreground, var(--jp-content-font-color1, white)));\n",
       "    --sklearn-color-background: var(--sg-background-color, var(--theme-background, var(--jp-layout-color0, #111)));\n",
       "    --sklearn-color-border-box: var(--sg-text-color, var(--theme-code-foreground, var(--jp-content-font-color1, white)));\n",
       "    --sklearn-color-icon: #878787;\n",
       "  }\n",
       "}\n",
       "\n",
       "#sk-container-id-1 {\n",
       "  color: var(--sklearn-color-text);\n",
       "}\n",
       "\n",
       "#sk-container-id-1 pre {\n",
       "  padding: 0;\n",
       "}\n",
       "\n",
       "#sk-container-id-1 input.sk-hidden--visually {\n",
       "  border: 0;\n",
       "  clip: rect(1px 1px 1px 1px);\n",
       "  clip: rect(1px, 1px, 1px, 1px);\n",
       "  height: 1px;\n",
       "  margin: -1px;\n",
       "  overflow: hidden;\n",
       "  padding: 0;\n",
       "  position: absolute;\n",
       "  width: 1px;\n",
       "}\n",
       "\n",
       "#sk-container-id-1 div.sk-dashed-wrapped {\n",
       "  border: 1px dashed var(--sklearn-color-line);\n",
       "  margin: 0 0.4em 0.5em 0.4em;\n",
       "  box-sizing: border-box;\n",
       "  padding-bottom: 0.4em;\n",
       "  background-color: var(--sklearn-color-background);\n",
       "}\n",
       "\n",
       "#sk-container-id-1 div.sk-container {\n",
       "  /* jupyter's `normalize.less` sets `[hidden] { display: none; }`\n",
       "     but bootstrap.min.css set `[hidden] { display: none !important; }`\n",
       "     so we also need the `!important` here to be able to override the\n",
       "     default hidden behavior on the sphinx rendered scikit-learn.org.\n",
       "     See: https://github.com/scikit-learn/scikit-learn/issues/21755 */\n",
       "  display: inline-block !important;\n",
       "  position: relative;\n",
       "}\n",
       "\n",
       "#sk-container-id-1 div.sk-text-repr-fallback {\n",
       "  display: none;\n",
       "}\n",
       "\n",
       "div.sk-parallel-item,\n",
       "div.sk-serial,\n",
       "div.sk-item {\n",
       "  /* draw centered vertical line to link estimators */\n",
       "  background-image: linear-gradient(var(--sklearn-color-text-on-default-background), var(--sklearn-color-text-on-default-background));\n",
       "  background-size: 2px 100%;\n",
       "  background-repeat: no-repeat;\n",
       "  background-position: center center;\n",
       "}\n",
       "\n",
       "/* Parallel-specific style estimator block */\n",
       "\n",
       "#sk-container-id-1 div.sk-parallel-item::after {\n",
       "  content: \"\";\n",
       "  width: 100%;\n",
       "  border-bottom: 2px solid var(--sklearn-color-text-on-default-background);\n",
       "  flex-grow: 1;\n",
       "}\n",
       "\n",
       "#sk-container-id-1 div.sk-parallel {\n",
       "  display: flex;\n",
       "  align-items: stretch;\n",
       "  justify-content: center;\n",
       "  background-color: var(--sklearn-color-background);\n",
       "  position: relative;\n",
       "}\n",
       "\n",
       "#sk-container-id-1 div.sk-parallel-item {\n",
       "  display: flex;\n",
       "  flex-direction: column;\n",
       "}\n",
       "\n",
       "#sk-container-id-1 div.sk-parallel-item:first-child::after {\n",
       "  align-self: flex-end;\n",
       "  width: 50%;\n",
       "}\n",
       "\n",
       "#sk-container-id-1 div.sk-parallel-item:last-child::after {\n",
       "  align-self: flex-start;\n",
       "  width: 50%;\n",
       "}\n",
       "\n",
       "#sk-container-id-1 div.sk-parallel-item:only-child::after {\n",
       "  width: 0;\n",
       "}\n",
       "\n",
       "/* Serial-specific style estimator block */\n",
       "\n",
       "#sk-container-id-1 div.sk-serial {\n",
       "  display: flex;\n",
       "  flex-direction: column;\n",
       "  align-items: center;\n",
       "  background-color: var(--sklearn-color-background);\n",
       "  padding-right: 1em;\n",
       "  padding-left: 1em;\n",
       "}\n",
       "\n",
       "\n",
       "/* Toggleable style: style used for estimator/Pipeline/ColumnTransformer box that is\n",
       "clickable and can be expanded/collapsed.\n",
       "- Pipeline and ColumnTransformer use this feature and define the default style\n",
       "- Estimators will overwrite some part of the style using the `sk-estimator` class\n",
       "*/\n",
       "\n",
       "/* Pipeline and ColumnTransformer style (default) */\n",
       "\n",
       "#sk-container-id-1 div.sk-toggleable {\n",
       "  /* Default theme specific background. It is overwritten whether we have a\n",
       "  specific estimator or a Pipeline/ColumnTransformer */\n",
       "  background-color: var(--sklearn-color-background);\n",
       "}\n",
       "\n",
       "/* Toggleable label */\n",
       "#sk-container-id-1 label.sk-toggleable__label {\n",
       "  cursor: pointer;\n",
       "  display: block;\n",
       "  width: 100%;\n",
       "  margin-bottom: 0;\n",
       "  padding: 0.5em;\n",
       "  box-sizing: border-box;\n",
       "  text-align: center;\n",
       "}\n",
       "\n",
       "#sk-container-id-1 label.sk-toggleable__label-arrow:before {\n",
       "  /* Arrow on the left of the label */\n",
       "  content: \"▸\";\n",
       "  float: left;\n",
       "  margin-right: 0.25em;\n",
       "  color: var(--sklearn-color-icon);\n",
       "}\n",
       "\n",
       "#sk-container-id-1 label.sk-toggleable__label-arrow:hover:before {\n",
       "  color: var(--sklearn-color-text);\n",
       "}\n",
       "\n",
       "/* Toggleable content - dropdown */\n",
       "\n",
       "#sk-container-id-1 div.sk-toggleable__content {\n",
       "  max-height: 0;\n",
       "  max-width: 0;\n",
       "  overflow: hidden;\n",
       "  text-align: left;\n",
       "  /* unfitted */\n",
       "  background-color: var(--sklearn-color-unfitted-level-0);\n",
       "}\n",
       "\n",
       "#sk-container-id-1 div.sk-toggleable__content.fitted {\n",
       "  /* fitted */\n",
       "  background-color: var(--sklearn-color-fitted-level-0);\n",
       "}\n",
       "\n",
       "#sk-container-id-1 div.sk-toggleable__content pre {\n",
       "  margin: 0.2em;\n",
       "  border-radius: 0.25em;\n",
       "  color: var(--sklearn-color-text);\n",
       "  /* unfitted */\n",
       "  background-color: var(--sklearn-color-unfitted-level-0);\n",
       "}\n",
       "\n",
       "#sk-container-id-1 div.sk-toggleable__content.fitted pre {\n",
       "  /* unfitted */\n",
       "  background-color: var(--sklearn-color-fitted-level-0);\n",
       "}\n",
       "\n",
       "#sk-container-id-1 input.sk-toggleable__control:checked~div.sk-toggleable__content {\n",
       "  /* Expand drop-down */\n",
       "  max-height: 200px;\n",
       "  max-width: 100%;\n",
       "  overflow: auto;\n",
       "}\n",
       "\n",
       "#sk-container-id-1 input.sk-toggleable__control:checked~label.sk-toggleable__label-arrow:before {\n",
       "  content: \"▾\";\n",
       "}\n",
       "\n",
       "/* Pipeline/ColumnTransformer-specific style */\n",
       "\n",
       "#sk-container-id-1 div.sk-label input.sk-toggleable__control:checked~label.sk-toggleable__label {\n",
       "  color: var(--sklearn-color-text);\n",
       "  background-color: var(--sklearn-color-unfitted-level-2);\n",
       "}\n",
       "\n",
       "#sk-container-id-1 div.sk-label.fitted input.sk-toggleable__control:checked~label.sk-toggleable__label {\n",
       "  background-color: var(--sklearn-color-fitted-level-2);\n",
       "}\n",
       "\n",
       "/* Estimator-specific style */\n",
       "\n",
       "/* Colorize estimator box */\n",
       "#sk-container-id-1 div.sk-estimator input.sk-toggleable__control:checked~label.sk-toggleable__label {\n",
       "  /* unfitted */\n",
       "  background-color: var(--sklearn-color-unfitted-level-2);\n",
       "}\n",
       "\n",
       "#sk-container-id-1 div.sk-estimator.fitted input.sk-toggleable__control:checked~label.sk-toggleable__label {\n",
       "  /* fitted */\n",
       "  background-color: var(--sklearn-color-fitted-level-2);\n",
       "}\n",
       "\n",
       "#sk-container-id-1 div.sk-label label.sk-toggleable__label,\n",
       "#sk-container-id-1 div.sk-label label {\n",
       "  /* The background is the default theme color */\n",
       "  color: var(--sklearn-color-text-on-default-background);\n",
       "}\n",
       "\n",
       "/* On hover, darken the color of the background */\n",
       "#sk-container-id-1 div.sk-label:hover label.sk-toggleable__label {\n",
       "  color: var(--sklearn-color-text);\n",
       "  background-color: var(--sklearn-color-unfitted-level-2);\n",
       "}\n",
       "\n",
       "/* Label box, darken color on hover, fitted */\n",
       "#sk-container-id-1 div.sk-label.fitted:hover label.sk-toggleable__label.fitted {\n",
       "  color: var(--sklearn-color-text);\n",
       "  background-color: var(--sklearn-color-fitted-level-2);\n",
       "}\n",
       "\n",
       "/* Estimator label */\n",
       "\n",
       "#sk-container-id-1 div.sk-label label {\n",
       "  font-family: monospace;\n",
       "  font-weight: bold;\n",
       "  display: inline-block;\n",
       "  line-height: 1.2em;\n",
       "}\n",
       "\n",
       "#sk-container-id-1 div.sk-label-container {\n",
       "  text-align: center;\n",
       "}\n",
       "\n",
       "/* Estimator-specific */\n",
       "#sk-container-id-1 div.sk-estimator {\n",
       "  font-family: monospace;\n",
       "  border: 1px dotted var(--sklearn-color-border-box);\n",
       "  border-radius: 0.25em;\n",
       "  box-sizing: border-box;\n",
       "  margin-bottom: 0.5em;\n",
       "  /* unfitted */\n",
       "  background-color: var(--sklearn-color-unfitted-level-0);\n",
       "}\n",
       "\n",
       "#sk-container-id-1 div.sk-estimator.fitted {\n",
       "  /* fitted */\n",
       "  background-color: var(--sklearn-color-fitted-level-0);\n",
       "}\n",
       "\n",
       "/* on hover */\n",
       "#sk-container-id-1 div.sk-estimator:hover {\n",
       "  /* unfitted */\n",
       "  background-color: var(--sklearn-color-unfitted-level-2);\n",
       "}\n",
       "\n",
       "#sk-container-id-1 div.sk-estimator.fitted:hover {\n",
       "  /* fitted */\n",
       "  background-color: var(--sklearn-color-fitted-level-2);\n",
       "}\n",
       "\n",
       "/* Specification for estimator info (e.g. \"i\" and \"?\") */\n",
       "\n",
       "/* Common style for \"i\" and \"?\" */\n",
       "\n",
       ".sk-estimator-doc-link,\n",
       "a:link.sk-estimator-doc-link,\n",
       "a:visited.sk-estimator-doc-link {\n",
       "  float: right;\n",
       "  font-size: smaller;\n",
       "  line-height: 1em;\n",
       "  font-family: monospace;\n",
       "  background-color: var(--sklearn-color-background);\n",
       "  border-radius: 1em;\n",
       "  height: 1em;\n",
       "  width: 1em;\n",
       "  text-decoration: none !important;\n",
       "  margin-left: 1ex;\n",
       "  /* unfitted */\n",
       "  border: var(--sklearn-color-unfitted-level-1) 1pt solid;\n",
       "  color: var(--sklearn-color-unfitted-level-1);\n",
       "}\n",
       "\n",
       ".sk-estimator-doc-link.fitted,\n",
       "a:link.sk-estimator-doc-link.fitted,\n",
       "a:visited.sk-estimator-doc-link.fitted {\n",
       "  /* fitted */\n",
       "  border: var(--sklearn-color-fitted-level-1) 1pt solid;\n",
       "  color: var(--sklearn-color-fitted-level-1);\n",
       "}\n",
       "\n",
       "/* On hover */\n",
       "div.sk-estimator:hover .sk-estimator-doc-link:hover,\n",
       ".sk-estimator-doc-link:hover,\n",
       "div.sk-label-container:hover .sk-estimator-doc-link:hover,\n",
       ".sk-estimator-doc-link:hover {\n",
       "  /* unfitted */\n",
       "  background-color: var(--sklearn-color-unfitted-level-3);\n",
       "  color: var(--sklearn-color-background);\n",
       "  text-decoration: none;\n",
       "}\n",
       "\n",
       "div.sk-estimator.fitted:hover .sk-estimator-doc-link.fitted:hover,\n",
       ".sk-estimator-doc-link.fitted:hover,\n",
       "div.sk-label-container:hover .sk-estimator-doc-link.fitted:hover,\n",
       ".sk-estimator-doc-link.fitted:hover {\n",
       "  /* fitted */\n",
       "  background-color: var(--sklearn-color-fitted-level-3);\n",
       "  color: var(--sklearn-color-background);\n",
       "  text-decoration: none;\n",
       "}\n",
       "\n",
       "/* Span, style for the box shown on hovering the info icon */\n",
       ".sk-estimator-doc-link span {\n",
       "  display: none;\n",
       "  z-index: 9999;\n",
       "  position: relative;\n",
       "  font-weight: normal;\n",
       "  right: .2ex;\n",
       "  padding: .5ex;\n",
       "  margin: .5ex;\n",
       "  width: min-content;\n",
       "  min-width: 20ex;\n",
       "  max-width: 50ex;\n",
       "  color: var(--sklearn-color-text);\n",
       "  box-shadow: 2pt 2pt 4pt #999;\n",
       "  /* unfitted */\n",
       "  background: var(--sklearn-color-unfitted-level-0);\n",
       "  border: .5pt solid var(--sklearn-color-unfitted-level-3);\n",
       "}\n",
       "\n",
       ".sk-estimator-doc-link.fitted span {\n",
       "  /* fitted */\n",
       "  background: var(--sklearn-color-fitted-level-0);\n",
       "  border: var(--sklearn-color-fitted-level-3);\n",
       "}\n",
       "\n",
       ".sk-estimator-doc-link:hover span {\n",
       "  display: block;\n",
       "}\n",
       "\n",
       "/* \"?\"-specific style due to the `<a>` HTML tag */\n",
       "\n",
       "#sk-container-id-1 a.estimator_doc_link {\n",
       "  float: right;\n",
       "  font-size: 1rem;\n",
       "  line-height: 1em;\n",
       "  font-family: monospace;\n",
       "  background-color: var(--sklearn-color-background);\n",
       "  border-radius: 1rem;\n",
       "  height: 1rem;\n",
       "  width: 1rem;\n",
       "  text-decoration: none;\n",
       "  /* unfitted */\n",
       "  color: var(--sklearn-color-unfitted-level-1);\n",
       "  border: var(--sklearn-color-unfitted-level-1) 1pt solid;\n",
       "}\n",
       "\n",
       "#sk-container-id-1 a.estimator_doc_link.fitted {\n",
       "  /* fitted */\n",
       "  border: var(--sklearn-color-fitted-level-1) 1pt solid;\n",
       "  color: var(--sklearn-color-fitted-level-1);\n",
       "}\n",
       "\n",
       "/* On hover */\n",
       "#sk-container-id-1 a.estimator_doc_link:hover {\n",
       "  /* unfitted */\n",
       "  background-color: var(--sklearn-color-unfitted-level-3);\n",
       "  color: var(--sklearn-color-background);\n",
       "  text-decoration: none;\n",
       "}\n",
       "\n",
       "#sk-container-id-1 a.estimator_doc_link.fitted:hover {\n",
       "  /* fitted */\n",
       "  background-color: var(--sklearn-color-fitted-level-3);\n",
       "}\n",
       "</style><div id=\"sk-container-id-1\" class=\"sk-top-container\"><div class=\"sk-text-repr-fallback\"><pre>GridSearchCV(cv=3,\n",
       "             estimator=Pipeline(steps=[(&#x27;tfidf&#x27;,\n",
       "                                        TfidfVectorizer(max_df=0.9, min_df=2,\n",
       "                                                        ngram_range=(1, 2))),\n",
       "                                       (&#x27;selector&#x27;, SelectKBest()),\n",
       "                                       (&#x27;classifier&#x27;, LogisticRegression())]),\n",
       "             n_jobs=-1,\n",
       "             param_grid=[{&#x27;classifier&#x27;: [LogisticRegression(class_weight=&#x27;balanced&#x27;,\n",
       "                                                            random_state=42)],\n",
       "                          &#x27;classifier__C&#x27;: [10],\n",
       "                          &#x27;selector__k&#x27;: range(35000, 265000, 5000)},\n",
       "                         {&#x27;classifier&#x27;: [&lt;catboost.core.CatBoostClassifier object at 0x000002268F68F9D0&gt;],\n",
       "                          &#x27;classifier__depth&#x27;: [5],\n",
       "                          &#x27;classifier__iterations&#x27;: [1000],\n",
       "                          &#x27;classifier__learning_rate&#x27;: [0.2],\n",
       "                          &#x27;selector__k&#x27;: [700, 750, 800]}],\n",
       "             scoring=make_scorer(f1_score, response_method=&#x27;predict&#x27;),\n",
       "             verbose=2)</pre><b>In a Jupyter environment, please rerun this cell to show the HTML representation or trust the notebook. <br />On GitHub, the HTML representation is unable to render, please try loading this page with nbviewer.org.</b></div><div class=\"sk-container\" hidden><div class=\"sk-item sk-dashed-wrapped\"><div class=\"sk-label-container\"><div class=\"sk-label fitted sk-toggleable\"><input class=\"sk-toggleable__control sk-hidden--visually\" id=\"sk-estimator-id-1\" type=\"checkbox\" ><label for=\"sk-estimator-id-1\" class=\"sk-toggleable__label fitted sk-toggleable__label-arrow fitted\">&nbsp;&nbsp;GridSearchCV<a class=\"sk-estimator-doc-link fitted\" rel=\"noreferrer\" target=\"_blank\" href=\"https://scikit-learn.org/1.5/modules/generated/sklearn.model_selection.GridSearchCV.html\">?<span>Documentation for GridSearchCV</span></a><span class=\"sk-estimator-doc-link fitted\">i<span>Fitted</span></span></label><div class=\"sk-toggleable__content fitted\"><pre>GridSearchCV(cv=3,\n",
       "             estimator=Pipeline(steps=[(&#x27;tfidf&#x27;,\n",
       "                                        TfidfVectorizer(max_df=0.9, min_df=2,\n",
       "                                                        ngram_range=(1, 2))),\n",
       "                                       (&#x27;selector&#x27;, SelectKBest()),\n",
       "                                       (&#x27;classifier&#x27;, LogisticRegression())]),\n",
       "             n_jobs=-1,\n",
       "             param_grid=[{&#x27;classifier&#x27;: [LogisticRegression(class_weight=&#x27;balanced&#x27;,\n",
       "                                                            random_state=42)],\n",
       "                          &#x27;classifier__C&#x27;: [10],\n",
       "                          &#x27;selector__k&#x27;: range(35000, 265000, 5000)},\n",
       "                         {&#x27;classifier&#x27;: [&lt;catboost.core.CatBoostClassifier object at 0x000002268F68F9D0&gt;],\n",
       "                          &#x27;classifier__depth&#x27;: [5],\n",
       "                          &#x27;classifier__iterations&#x27;: [1000],\n",
       "                          &#x27;classifier__learning_rate&#x27;: [0.2],\n",
       "                          &#x27;selector__k&#x27;: [700, 750, 800]}],\n",
       "             scoring=make_scorer(f1_score, response_method=&#x27;predict&#x27;),\n",
       "             verbose=2)</pre></div> </div></div><div class=\"sk-parallel\"><div class=\"sk-parallel-item\"><div class=\"sk-item\"><div class=\"sk-label-container\"><div class=\"sk-label fitted sk-toggleable\"><input class=\"sk-toggleable__control sk-hidden--visually\" id=\"sk-estimator-id-2\" type=\"checkbox\" ><label for=\"sk-estimator-id-2\" class=\"sk-toggleable__label fitted sk-toggleable__label-arrow fitted\">best_estimator_: Pipeline</label><div class=\"sk-toggleable__content fitted\"><pre>Pipeline(steps=[(&#x27;tfidf&#x27;,\n",
       "                 TfidfVectorizer(max_df=0.9, min_df=2, ngram_range=(1, 2))),\n",
       "                (&#x27;selector&#x27;, SelectKBest(k=45000)),\n",
       "                (&#x27;classifier&#x27;,\n",
       "                 LogisticRegression(C=10, class_weight=&#x27;balanced&#x27;,\n",
       "                                    random_state=42))])</pre></div> </div></div><div class=\"sk-serial\"><div class=\"sk-item\"><div class=\"sk-serial\"><div class=\"sk-item\"><div class=\"sk-estimator fitted sk-toggleable\"><input class=\"sk-toggleable__control sk-hidden--visually\" id=\"sk-estimator-id-3\" type=\"checkbox\" ><label for=\"sk-estimator-id-3\" class=\"sk-toggleable__label fitted sk-toggleable__label-arrow fitted\">&nbsp;TfidfVectorizer<a class=\"sk-estimator-doc-link fitted\" rel=\"noreferrer\" target=\"_blank\" href=\"https://scikit-learn.org/1.5/modules/generated/sklearn.feature_extraction.text.TfidfVectorizer.html\">?<span>Documentation for TfidfVectorizer</span></a></label><div class=\"sk-toggleable__content fitted\"><pre>TfidfVectorizer(max_df=0.9, min_df=2, ngram_range=(1, 2))</pre></div> </div></div><div class=\"sk-item\"><div class=\"sk-estimator fitted sk-toggleable\"><input class=\"sk-toggleable__control sk-hidden--visually\" id=\"sk-estimator-id-4\" type=\"checkbox\" ><label for=\"sk-estimator-id-4\" class=\"sk-toggleable__label fitted sk-toggleable__label-arrow fitted\">&nbsp;SelectKBest<a class=\"sk-estimator-doc-link fitted\" rel=\"noreferrer\" target=\"_blank\" href=\"https://scikit-learn.org/1.5/modules/generated/sklearn.feature_selection.SelectKBest.html\">?<span>Documentation for SelectKBest</span></a></label><div class=\"sk-toggleable__content fitted\"><pre>SelectKBest(k=45000)</pre></div> </div></div><div class=\"sk-item\"><div class=\"sk-estimator fitted sk-toggleable\"><input class=\"sk-toggleable__control sk-hidden--visually\" id=\"sk-estimator-id-5\" type=\"checkbox\" ><label for=\"sk-estimator-id-5\" class=\"sk-toggleable__label fitted sk-toggleable__label-arrow fitted\">&nbsp;LogisticRegression<a class=\"sk-estimator-doc-link fitted\" rel=\"noreferrer\" target=\"_blank\" href=\"https://scikit-learn.org/1.5/modules/generated/sklearn.linear_model.LogisticRegression.html\">?<span>Documentation for LogisticRegression</span></a></label><div class=\"sk-toggleable__content fitted\"><pre>LogisticRegression(C=10, class_weight=&#x27;balanced&#x27;, random_state=42)</pre></div> </div></div></div></div></div></div></div></div></div></div></div>"
      ],
      "text/plain": [
       "GridSearchCV(cv=3,\n",
       "             estimator=Pipeline(steps=[('tfidf',\n",
       "                                        TfidfVectorizer(max_df=0.9, min_df=2,\n",
       "                                                        ngram_range=(1, 2))),\n",
       "                                       ('selector', SelectKBest()),\n",
       "                                       ('classifier', LogisticRegression())]),\n",
       "             n_jobs=-1,\n",
       "             param_grid=[{'classifier': [LogisticRegression(class_weight='balanced',\n",
       "                                                            random_state=42)],\n",
       "                          'classifier__C': [10],\n",
       "                          'selector__k': range(35000, 265000, 5000)},\n",
       "                         {'classifier': [<catboost.core.CatBoostClassifier object at 0x000002268F68F9D0>],\n",
       "                          'classifier__depth': [5],\n",
       "                          'classifier__iterations': [1000],\n",
       "                          'classifier__learning_rate': [0.2],\n",
       "                          'selector__k': [700, 750, 800]}],\n",
       "             scoring=make_scorer(f1_score, response_method='predict'),\n",
       "             verbose=2)"
      ]
     },
     "execution_count": 29,
     "metadata": {},
     "output_type": "execute_result"
    }
   ],
   "source": [
    "grid.fit(X_train, y_train)"
   ]
  },
  {
   "cell_type": "code",
   "execution_count": 30,
   "metadata": {},
   "outputs": [
    {
     "name": "stdout",
     "output_type": "stream",
     "text": [
      "Лучшая модель и её параметры:\n",
      "\n",
      " Pipeline(steps=[('tfidf',\n",
      "                 TfidfVectorizer(max_df=0.9, min_df=2, ngram_range=(1, 2))),\n",
      "                ('selector', SelectKBest(k=45000)),\n",
      "                ('classifier',\n",
      "                 LogisticRegression(C=10, class_weight='balanced',\n",
      "                                    random_state=42))])\n"
     ]
    }
   ],
   "source": [
    "print('Лучшая модель и её параметры:\\n\\n', grid.best_estimator_)"
   ]
  },
  {
   "cell_type": "code",
   "execution_count": 31,
   "metadata": {},
   "outputs": [
    {
     "data": {
      "text/html": [
       "<div>\n",
       "<style scoped>\n",
       "    .dataframe tbody tr th:only-of-type {\n",
       "        vertical-align: middle;\n",
       "    }\n",
       "\n",
       "    .dataframe tbody tr th {\n",
       "        vertical-align: top;\n",
       "    }\n",
       "\n",
       "    .dataframe thead th {\n",
       "        text-align: right;\n",
       "    }\n",
       "</style>\n",
       "<table border=\"1\" class=\"dataframe\">\n",
       "  <thead>\n",
       "    <tr style=\"text-align: right;\">\n",
       "      <th></th>\n",
       "      <th>mean_fit_time</th>\n",
       "      <th>std_fit_time</th>\n",
       "      <th>mean_score_time</th>\n",
       "      <th>std_score_time</th>\n",
       "      <th>param_classifier</th>\n",
       "      <th>param_classifier__C</th>\n",
       "      <th>param_selector__k</th>\n",
       "      <th>param_classifier__depth</th>\n",
       "      <th>param_classifier__iterations</th>\n",
       "      <th>param_classifier__learning_rate</th>\n",
       "      <th>params</th>\n",
       "      <th>split0_test_score</th>\n",
       "      <th>split1_test_score</th>\n",
       "      <th>split2_test_score</th>\n",
       "      <th>mean_test_score</th>\n",
       "      <th>std_test_score</th>\n",
       "      <th>rank_test_score</th>\n",
       "    </tr>\n",
       "  </thead>\n",
       "  <tbody>\n",
       "    <tr>\n",
       "      <th>2</th>\n",
       "      <td>19.113974</td>\n",
       "      <td>0.673638</td>\n",
       "      <td>6.865472</td>\n",
       "      <td>0.114532</td>\n",
       "      <td>LogisticRegression(class_weight='balanced', ra...</td>\n",
       "      <td>10.0</td>\n",
       "      <td>45000</td>\n",
       "      <td>NaN</td>\n",
       "      <td>NaN</td>\n",
       "      <td>NaN</td>\n",
       "      <td>{'classifier': LogisticRegression(class_weight...</td>\n",
       "      <td>0.771002</td>\n",
       "      <td>0.773583</td>\n",
       "      <td>0.774900</td>\n",
       "      <td>0.773162</td>\n",
       "      <td>0.001619</td>\n",
       "      <td>1</td>\n",
       "    </tr>\n",
       "    <tr>\n",
       "      <th>9</th>\n",
       "      <td>23.746925</td>\n",
       "      <td>0.340303</td>\n",
       "      <td>6.781451</td>\n",
       "      <td>0.045728</td>\n",
       "      <td>LogisticRegression(class_weight='balanced', ra...</td>\n",
       "      <td>10.0</td>\n",
       "      <td>80000</td>\n",
       "      <td>NaN</td>\n",
       "      <td>NaN</td>\n",
       "      <td>NaN</td>\n",
       "      <td>{'classifier': LogisticRegression(class_weight...</td>\n",
       "      <td>0.770826</td>\n",
       "      <td>0.771641</td>\n",
       "      <td>0.776386</td>\n",
       "      <td>0.772951</td>\n",
       "      <td>0.002452</td>\n",
       "      <td>2</td>\n",
       "    </tr>\n",
       "    <tr>\n",
       "      <th>43</th>\n",
       "      <td>23.262488</td>\n",
       "      <td>0.624528</td>\n",
       "      <td>6.310975</td>\n",
       "      <td>0.055991</td>\n",
       "      <td>LogisticRegression(class_weight='balanced', ra...</td>\n",
       "      <td>10.0</td>\n",
       "      <td>250000</td>\n",
       "      <td>NaN</td>\n",
       "      <td>NaN</td>\n",
       "      <td>NaN</td>\n",
       "      <td>{'classifier': LogisticRegression(class_weight...</td>\n",
       "      <td>0.773630</td>\n",
       "      <td>0.770814</td>\n",
       "      <td>0.771659</td>\n",
       "      <td>0.772035</td>\n",
       "      <td>0.001180</td>\n",
       "      <td>3</td>\n",
       "    </tr>\n",
       "    <tr>\n",
       "      <th>39</th>\n",
       "      <td>26.971935</td>\n",
       "      <td>0.673015</td>\n",
       "      <td>7.963954</td>\n",
       "      <td>0.435855</td>\n",
       "      <td>LogisticRegression(class_weight='balanced', ra...</td>\n",
       "      <td>10.0</td>\n",
       "      <td>230000</td>\n",
       "      <td>NaN</td>\n",
       "      <td>NaN</td>\n",
       "      <td>NaN</td>\n",
       "      <td>{'classifier': LogisticRegression(class_weight...</td>\n",
       "      <td>0.769903</td>\n",
       "      <td>0.772784</td>\n",
       "      <td>0.772361</td>\n",
       "      <td>0.771683</td>\n",
       "      <td>0.001270</td>\n",
       "      <td>4</td>\n",
       "    </tr>\n",
       "    <tr>\n",
       "      <th>8</th>\n",
       "      <td>23.889204</td>\n",
       "      <td>0.815883</td>\n",
       "      <td>6.859516</td>\n",
       "      <td>0.130810</td>\n",
       "      <td>LogisticRegression(class_weight='balanced', ra...</td>\n",
       "      <td>10.0</td>\n",
       "      <td>75000</td>\n",
       "      <td>NaN</td>\n",
       "      <td>NaN</td>\n",
       "      <td>NaN</td>\n",
       "      <td>{'classifier': LogisticRegression(class_weight...</td>\n",
       "      <td>0.768686</td>\n",
       "      <td>0.772223</td>\n",
       "      <td>0.773831</td>\n",
       "      <td>0.771580</td>\n",
       "      <td>0.002149</td>\n",
       "      <td>5</td>\n",
       "    </tr>\n",
       "    <tr>\n",
       "      <th>10</th>\n",
       "      <td>23.667912</td>\n",
       "      <td>0.603044</td>\n",
       "      <td>7.182197</td>\n",
       "      <td>0.515720</td>\n",
       "      <td>LogisticRegression(class_weight='balanced', ra...</td>\n",
       "      <td>10.0</td>\n",
       "      <td>85000</td>\n",
       "      <td>NaN</td>\n",
       "      <td>NaN</td>\n",
       "      <td>NaN</td>\n",
       "      <td>{'classifier': LogisticRegression(class_weight...</td>\n",
       "      <td>0.769478</td>\n",
       "      <td>0.770421</td>\n",
       "      <td>0.773644</td>\n",
       "      <td>0.771181</td>\n",
       "      <td>0.001784</td>\n",
       "      <td>6</td>\n",
       "    </tr>\n",
       "    <tr>\n",
       "      <th>12</th>\n",
       "      <td>24.761025</td>\n",
       "      <td>0.592754</td>\n",
       "      <td>6.924394</td>\n",
       "      <td>0.159650</td>\n",
       "      <td>LogisticRegression(class_weight='balanced', ra...</td>\n",
       "      <td>10.0</td>\n",
       "      <td>95000</td>\n",
       "      <td>NaN</td>\n",
       "      <td>NaN</td>\n",
       "      <td>NaN</td>\n",
       "      <td>{'classifier': LogisticRegression(class_weight...</td>\n",
       "      <td>0.768823</td>\n",
       "      <td>0.772368</td>\n",
       "      <td>0.772300</td>\n",
       "      <td>0.771164</td>\n",
       "      <td>0.001655</td>\n",
       "      <td>7</td>\n",
       "    </tr>\n",
       "  </tbody>\n",
       "</table>\n",
       "</div>"
      ],
      "text/plain": [
       "    mean_fit_time  std_fit_time  mean_score_time  std_score_time  \\\n",
       "2       19.113974      0.673638         6.865472        0.114532   \n",
       "9       23.746925      0.340303         6.781451        0.045728   \n",
       "43      23.262488      0.624528         6.310975        0.055991   \n",
       "39      26.971935      0.673015         7.963954        0.435855   \n",
       "8       23.889204      0.815883         6.859516        0.130810   \n",
       "10      23.667912      0.603044         7.182197        0.515720   \n",
       "12      24.761025      0.592754         6.924394        0.159650   \n",
       "\n",
       "                                     param_classifier  param_classifier__C  \\\n",
       "2   LogisticRegression(class_weight='balanced', ra...                 10.0   \n",
       "9   LogisticRegression(class_weight='balanced', ra...                 10.0   \n",
       "43  LogisticRegression(class_weight='balanced', ra...                 10.0   \n",
       "39  LogisticRegression(class_weight='balanced', ra...                 10.0   \n",
       "8   LogisticRegression(class_weight='balanced', ra...                 10.0   \n",
       "10  LogisticRegression(class_weight='balanced', ra...                 10.0   \n",
       "12  LogisticRegression(class_weight='balanced', ra...                 10.0   \n",
       "\n",
       "    param_selector__k  param_classifier__depth  param_classifier__iterations  \\\n",
       "2               45000                      NaN                           NaN   \n",
       "9               80000                      NaN                           NaN   \n",
       "43             250000                      NaN                           NaN   \n",
       "39             230000                      NaN                           NaN   \n",
       "8               75000                      NaN                           NaN   \n",
       "10              85000                      NaN                           NaN   \n",
       "12              95000                      NaN                           NaN   \n",
       "\n",
       "    param_classifier__learning_rate  \\\n",
       "2                               NaN   \n",
       "9                               NaN   \n",
       "43                              NaN   \n",
       "39                              NaN   \n",
       "8                               NaN   \n",
       "10                              NaN   \n",
       "12                              NaN   \n",
       "\n",
       "                                               params  split0_test_score  \\\n",
       "2   {'classifier': LogisticRegression(class_weight...           0.771002   \n",
       "9   {'classifier': LogisticRegression(class_weight...           0.770826   \n",
       "43  {'classifier': LogisticRegression(class_weight...           0.773630   \n",
       "39  {'classifier': LogisticRegression(class_weight...           0.769903   \n",
       "8   {'classifier': LogisticRegression(class_weight...           0.768686   \n",
       "10  {'classifier': LogisticRegression(class_weight...           0.769478   \n",
       "12  {'classifier': LogisticRegression(class_weight...           0.768823   \n",
       "\n",
       "    split1_test_score  split2_test_score  mean_test_score  std_test_score  \\\n",
       "2            0.773583           0.774900         0.773162        0.001619   \n",
       "9            0.771641           0.776386         0.772951        0.002452   \n",
       "43           0.770814           0.771659         0.772035        0.001180   \n",
       "39           0.772784           0.772361         0.771683        0.001270   \n",
       "8            0.772223           0.773831         0.771580        0.002149   \n",
       "10           0.770421           0.773644         0.771181        0.001784   \n",
       "12           0.772368           0.772300         0.771164        0.001655   \n",
       "\n",
       "    rank_test_score  \n",
       "2                 1  \n",
       "9                 2  \n",
       "43                3  \n",
       "39                4  \n",
       "8                 5  \n",
       "10                6  \n",
       "12                7  "
      ]
     },
     "metadata": {},
     "output_type": "display_data"
    }
   ],
   "source": [
    "result = pd.DataFrame(grid.cv_results_)\n",
    "result = result.sort_values('rank_test_score')\n",
    "display(result.head(7))"
   ]
  },
  {
   "cell_type": "code",
   "execution_count": 32,
   "metadata": {},
   "outputs": [
    {
     "data": {
      "text/plain": [
       "'Метрика F1 для лучшей модели по кросс-валидации:'"
      ]
     },
     "metadata": {},
     "output_type": "display_data"
    },
    {
     "data": {
      "text/plain": [
       "0.7731616120221844"
      ]
     },
     "metadata": {},
     "output_type": "display_data"
    }
   ],
   "source": [
    "display('Метрика F1 для лучшей модели по кросс-валидации:', grid.best_score_)"
   ]
  },
  {
   "cell_type": "markdown",
   "metadata": {},
   "source": [
    "## Выводы"
   ]
  },
  {
   "cell_type": "markdown",
   "metadata": {},
   "source": [
    "Параметры лучшей модели: "
   ]
  },
  {
   "cell_type": "code",
   "execution_count": 33,
   "metadata": {},
   "outputs": [
    {
     "data": {
      "text/plain": [
       "{'classifier': LogisticRegression(class_weight='balanced', random_state=42),\n",
       " 'classifier__C': 10,\n",
       " 'selector__k': 45000}"
      ]
     },
     "execution_count": 33,
     "metadata": {},
     "output_type": "execute_result"
    }
   ],
   "source": [
    "result.iloc[0]['params']"
   ]
  },
  {
   "cell_type": "markdown",
   "metadata": {},
   "source": [
    "Проверим её метрику на тестовой выборке"
   ]
  },
  {
   "cell_type": "code",
   "execution_count": 34,
   "metadata": {},
   "outputs": [],
   "source": [
    "predict= grid.best_estimator_.predict(X_test)"
   ]
  },
  {
   "cell_type": "code",
   "execution_count": 35,
   "metadata": {},
   "outputs": [
    {
     "name": "stdout",
     "output_type": "stream",
     "text": [
      "Значение метрики F1 для лучшей модели  на тестовых данных: 0.7680798004987531\n"
     ]
    }
   ],
   "source": [
    "f1_sc = f1_score(y_test, predict)\n",
    "print(f'Значение метрики F1 для лучшей модели  на тестовых данных: {f1_sc}')"
   ]
  },
  {
   "cell_type": "markdown",
   "metadata": {},
   "source": [
    "Значение метрики F1 > 0.75 и соответсует необходимому\n",
    "\n",
    "Рассмотрим другие метрики классификации"
   ]
  },
  {
   "cell_type": "code",
   "execution_count": 36,
   "metadata": {},
   "outputs": [
    {
     "name": "stdout",
     "output_type": "stream",
     "text": [
      "Классификационный отчёт:\n",
      "              precision    recall  f1-score   support\n",
      "\n",
      "           0     0.9792    0.9646    0.9718     28277\n",
      "           1     0.7232    0.8189    0.7681      3197\n",
      "\n",
      "    accuracy                         0.9498     31474\n",
      "   macro avg     0.8512    0.8917    0.8700     31474\n",
      "weighted avg     0.9532    0.9498    0.9511     31474\n",
      "\n",
      "Accuracy:  0.9498\n",
      "Precision: 0.7232\n",
      "Recall:    0.8189\n",
      "F1-score:  0.7681\n",
      "________\n",
      "Confusion Matrix (с пояснениями):\n",
      "\n",
      "               Predicted\n",
      "              0       1\n",
      "Actual  0   27275    1002    ← TN / FP\n",
      "        1     579    2618    ← FN / TP\n",
      "\n",
      "🔹 True Negatives (TN): 27275\n",
      "🔹 False Positives (FP): 1002\n",
      "🔹 False Negatives (FN): 579\n",
      "🔹 True Positives (TP): 2618\n"
     ]
    }
   ],
   "source": [
    "print(\"Классификационный отчёт:\")\n",
    "print(classification_report(y_test, predict, digits=4))\n",
    "\n",
    "# Дополнительно:\n",
    "print(f\"Accuracy:  {accuracy_score(y_test, predict):.4f}\")\n",
    "print(f\"Precision: {precision_score(y_test, predict):.4f}\")\n",
    "print(f\"Recall:    {recall_score(y_test, predict):.4f}\")\n",
    "print(f\"F1-score:  {f1_score(y_test, predict):.4f}\")\n",
    "\n",
    "# Матрица ошибок\n",
    "print(\"________\")\n",
    "cm = confusion_matrix(y_test, predict)\n",
    "\n",
    "TN, FP, FN, TP = cm.ravel()\n",
    "\n",
    "print(\"Confusion Matrix (с пояснениями):\\n\")\n",
    "print(f\"               Predicted\")\n",
    "print(f\"              0       1\")\n",
    "print(f\"Actual  0   {TN:5}   {FP:5}    ← TN / FP\")\n",
    "print(f\"        1   {FN:5}   {TP:5}    ← FN / TP\\n\")\n",
    "\n",
    "print(f\"🔹 True Negatives (TN): {TN}\")\n",
    "print(f\"🔹 False Positives (FP): {FP}\")\n",
    "print(f\"🔹 False Negatives (FN): {FN}\")\n",
    "print(f\"🔹 True Positives (TP): {TP}\")"
   ]
  },
  {
   "cell_type": "markdown",
   "metadata": {},
   "source": [
    "Сохраняем лучшую модель из GridSearchCV"
   ]
  },
  {
   "cell_type": "code",
   "execution_count": 37,
   "metadata": {},
   "outputs": [],
   "source": [
    "best_model = grid.best_estimator_"
   ]
  },
  {
   "cell_type": "code",
   "execution_count": 38,
   "metadata": {},
   "outputs": [],
   "source": [
    "predictions_final_test = best_model.predict(X_test)"
   ]
  },
  {
   "cell_type": "markdown",
   "metadata": {},
   "source": [
    "Финальная проверка что все работает"
   ]
  },
  {
   "cell_type": "code",
   "execution_count": 39,
   "metadata": {},
   "outputs": [
    {
     "name": "stdout",
     "output_type": "stream",
     "text": [
      "Значение метрики F1 для лучшей модели  на тестовых данных: 0.7680798004987531\n"
     ]
    }
   ],
   "source": [
    "f1_final_test = f1_score(y_test, predictions_final_test)\n",
    "print(f'Значение метрики F1 для лучшей модели  на тестовых данных: {f1_final_test}')"
   ]
  },
  {
   "cell_type": "markdown",
   "metadata": {},
   "source": [
    "### Вывод текстовый"
   ]
  },
  {
   "cell_type": "markdown",
   "metadata": {},
   "source": [
    "Для определения \"Токсичности\" комментарие был представлен датасет из 159292 строк. \n",
    "- Пропуски отсутсвуют.\n",
    "- Дисбаланс классов Токсичных -10% не Токсичных -90%\n",
    "\n",
    "Был удален не информативный столбец Unnamed: 0.\n",
    "\n",
    "Была выполнена подготовка текста включающая:\n",
    "- Токинизацию\n",
    "- Лемматизацию с учетом части речи\n",
    "- Очистку от стоп слов\n",
    "\n",
    "Для каждого текста получена соответсвующая строка очищенного текста.\n",
    "\n",
    "- После удалены 1923 дубликата.\n",
    "- Делим на тренировочную и тестовую выборки в соотношении 4/1 со стратификацией по 'toxic'- целевой переменной\n",
    "\n",
    "TF-IDF преобразование выполняется на этапе pipeline для корректной кросс-валидации\n",
    "\n",
    "- Стоп слова на этом этапе удалять не будем - так выше точность.\n",
    "- Сначала преобразование на тренировочной выборке с кросс-валидацией\n",
    "- При тестировании в модель передается столбец очищенного текста.\n",
    "\n",
    "\n",
    "Изначально в ходе обучения рассматривались 4 модели:\n",
    "- LogisticRegression()\n",
    "- DecisionTreeClassifier()\n",
    "- RandomForestClassifier()\n",
    "- CatBoostClassifier()\n",
    "\n",
    "Но две из них\n",
    "- DecisionTreeClassifier()\n",
    "- RandomForestClassifier()\n",
    "\n",
    "Показали низкие результаты и в итоговый прогон не включались\n",
    "\n",
    "Лидером стала - LogisticRegression(C=10, class_weight='balanced') с SelectKBest(k=45000)\n",
    "- Метрика F1 на тренировочной выборке по результатам кросс-вализации - 0.7731616120221844\n",
    "- Метрика F1 на тестовых данных: 0.7680798004987531\n",
    "\n",
    "Значение метрики F1 > 0.75 и соответсует необходимому\n",
    "\n",
    "- другие метрики  - Precision: 0.7232 и Recall: 0.8189\n",
    "\n",
    "Также Рассмотрели Confusion Matrix "
   ]
  }
 ],
 "metadata": {
  "ExecuteTimeLog": [
   {
    "duration": 18046,
    "start_time": "2025-05-20T15:04:56.088Z"
   },
   {
    "duration": 4,
    "start_time": "2025-05-20T15:05:17.047Z"
   },
   {
    "duration": 978,
    "start_time": "2025-05-20T15:05:37.839Z"
   },
   {
    "duration": 13,
    "start_time": "2025-05-20T15:05:46.486Z"
   },
   {
    "duration": 11,
    "start_time": "2025-05-20T15:07:09.607Z"
   },
   {
    "duration": 7,
    "start_time": "2025-05-20T15:07:12.346Z"
   },
   {
    "duration": 34,
    "start_time": "2025-05-20T15:12:05.194Z"
   },
   {
    "duration": 1397,
    "start_time": "2025-05-20T15:15:14.619Z"
   },
   {
    "duration": 2,
    "start_time": "2025-05-20T15:15:53.500Z"
   },
   {
    "duration": 2,
    "start_time": "2025-05-20T15:16:19.317Z"
   },
   {
    "duration": 4,
    "start_time": "2025-05-20T15:16:26.165Z"
   },
   {
    "duration": 330,
    "start_time": "2025-05-20T15:16:32.850Z"
   },
   {
    "duration": 4,
    "start_time": "2025-05-20T15:16:39.770Z"
   },
   {
    "duration": 61997,
    "start_time": "2025-05-20T15:16:56.403Z"
   },
   {
    "duration": 2442,
    "start_time": "2025-05-20T15:18:17.050Z"
   },
   {
    "duration": 3,
    "start_time": "2025-05-20T15:18:20.795Z"
   },
   {
    "duration": 3,
    "start_time": "2025-05-20T15:18:21.211Z"
   },
   {
    "duration": 118,
    "start_time": "2025-05-20T15:18:21.611Z"
   },
   {
    "duration": 4,
    "start_time": "2025-05-20T15:18:22.019Z"
   },
   {
    "duration": 63140,
    "start_time": "2025-05-20T15:18:23.644Z"
   },
   {
    "duration": 679,
    "start_time": "2025-05-20T15:25:19.286Z"
   },
   {
    "duration": 3,
    "start_time": "2025-05-20T15:27:59.887Z"
   },
   {
    "duration": 8736,
    "start_time": "2025-05-20T15:29:03.086Z"
   },
   {
    "duration": 4,
    "start_time": "2025-05-20T15:29:11.824Z"
   },
   {
    "duration": 1014,
    "start_time": "2025-05-20T15:29:11.830Z"
   },
   {
    "duration": 12,
    "start_time": "2025-05-20T15:29:12.846Z"
   },
   {
    "duration": 122,
    "start_time": "2025-05-20T15:29:12.860Z"
   },
   {
    "duration": 55,
    "start_time": "2025-05-20T15:29:12.984Z"
   },
   {
    "duration": 1079,
    "start_time": "2025-05-20T15:29:13.041Z"
   },
   {
    "duration": 284,
    "start_time": "2025-05-20T15:29:14.122Z"
   },
   {
    "duration": 2143,
    "start_time": "2025-05-20T15:29:14.408Z"
   },
   {
    "duration": 3,
    "start_time": "2025-05-20T15:29:16.553Z"
   },
   {
    "duration": 9,
    "start_time": "2025-05-20T15:29:16.558Z"
   },
   {
    "duration": 9,
    "start_time": "2025-05-20T15:29:16.568Z"
   },
   {
    "duration": 28,
    "start_time": "2025-05-20T15:29:16.579Z"
   },
   {
    "duration": 38676,
    "start_time": "2025-05-20T15:29:16.609Z"
   },
   {
    "duration": 150,
    "start_time": "2025-05-20T15:29:56.240Z"
   },
   {
    "duration": 1912,
    "start_time": "2025-05-20T15:30:17.450Z"
   },
   {
    "duration": 4,
    "start_time": "2025-05-20T15:30:28.184Z"
   },
   {
    "duration": 1627938,
    "start_time": "2025-05-20T15:31:16.146Z"
   },
   {
    "duration": 4,
    "start_time": "2025-05-20T15:58:24.086Z"
   },
   {
    "duration": 5,
    "start_time": "2025-05-20T15:58:24.091Z"
   },
   {
    "duration": 56,
    "start_time": "2025-05-20T16:01:16.529Z"
   },
   {
    "duration": 8997,
    "start_time": "2025-05-20T16:04:20.534Z"
   },
   {
    "duration": 4,
    "start_time": "2025-05-20T16:04:29.534Z"
   },
   {
    "duration": 1010,
    "start_time": "2025-05-20T16:04:29.541Z"
   },
   {
    "duration": 13,
    "start_time": "2025-05-20T16:04:30.554Z"
   },
   {
    "duration": 37,
    "start_time": "2025-05-20T16:04:30.568Z"
   },
   {
    "duration": 59,
    "start_time": "2025-05-20T16:04:30.606Z"
   },
   {
    "duration": 1109,
    "start_time": "2025-05-20T16:04:30.666Z"
   },
   {
    "duration": 282,
    "start_time": "2025-05-20T16:04:31.776Z"
   },
   {
    "duration": 2150,
    "start_time": "2025-05-20T16:04:32.060Z"
   },
   {
    "duration": 29,
    "start_time": "2025-05-20T16:04:34.212Z"
   },
   {
    "duration": 37,
    "start_time": "2025-05-20T16:04:34.243Z"
   },
   {
    "duration": 47,
    "start_time": "2025-05-20T16:04:34.282Z"
   },
   {
    "duration": 30,
    "start_time": "2025-05-20T16:04:34.332Z"
   },
   {
    "duration": 39199,
    "start_time": "2025-05-20T16:04:34.365Z"
   },
   {
    "duration": 177,
    "start_time": "2025-05-20T16:05:13.566Z"
   },
   {
    "duration": 1918,
    "start_time": "2025-05-20T16:05:13.745Z"
   },
   {
    "duration": 4,
    "start_time": "2025-05-20T16:05:15.664Z"
   },
   {
    "duration": 1331873,
    "start_time": "2025-05-20T16:05:15.670Z"
   },
   {
    "duration": 4,
    "start_time": "2025-05-20T16:27:27.544Z"
   },
   {
    "duration": 14,
    "start_time": "2025-05-20T16:27:27.550Z"
   },
   {
    "duration": 8716,
    "start_time": "2025-05-20T16:29:01.615Z"
   },
   {
    "duration": 4,
    "start_time": "2025-05-20T16:29:10.334Z"
   },
   {
    "duration": 1037,
    "start_time": "2025-05-20T16:29:10.339Z"
   },
   {
    "duration": 12,
    "start_time": "2025-05-20T16:29:11.378Z"
   },
   {
    "duration": 10,
    "start_time": "2025-05-20T16:29:11.392Z"
   },
   {
    "duration": 121,
    "start_time": "2025-05-20T16:29:11.403Z"
   },
   {
    "duration": 952,
    "start_time": "2025-05-20T16:29:11.526Z"
   },
   {
    "duration": 319,
    "start_time": "2025-05-20T16:29:12.480Z"
   },
   {
    "duration": 2200,
    "start_time": "2025-05-20T16:29:12.800Z"
   },
   {
    "duration": 100,
    "start_time": "2025-05-20T16:29:15.002Z"
   },
   {
    "duration": 127,
    "start_time": "2025-05-20T16:29:15.104Z"
   },
   {
    "duration": 50,
    "start_time": "2025-05-20T16:29:15.233Z"
   },
   {
    "duration": 41,
    "start_time": "2025-05-20T16:29:15.286Z"
   },
   {
    "duration": 37822,
    "start_time": "2025-05-20T16:29:15.330Z"
   },
   {
    "duration": 249,
    "start_time": "2025-05-20T16:29:53.153Z"
   },
   {
    "duration": 2100,
    "start_time": "2025-05-20T16:29:53.404Z"
   },
   {
    "duration": 4,
    "start_time": "2025-05-20T16:29:55.506Z"
   },
   {
    "duration": 23266,
    "start_time": "2025-05-20T16:29:55.511Z"
   },
   {
    "duration": 0,
    "start_time": "2025-05-20T16:30:18.779Z"
   },
   {
    "duration": 0,
    "start_time": "2025-05-20T16:30:18.781Z"
   },
   {
    "duration": 0,
    "start_time": "2025-05-20T16:30:18.781Z"
   },
   {
    "duration": 457702,
    "start_time": "2025-05-20T16:30:23.255Z"
   },
   {
    "duration": 3,
    "start_time": "2025-05-20T16:38:00.960Z"
   },
   {
    "duration": 29,
    "start_time": "2025-05-20T16:38:00.965Z"
   },
   {
    "duration": 11870,
    "start_time": "2025-05-20T16:38:00.996Z"
   },
   {
    "duration": 8622,
    "start_time": "2025-05-20T16:51:38.798Z"
   },
   {
    "duration": 6,
    "start_time": "2025-05-20T16:51:47.422Z"
   },
   {
    "duration": 982,
    "start_time": "2025-05-20T16:51:47.429Z"
   },
   {
    "duration": 12,
    "start_time": "2025-05-20T16:51:48.413Z"
   },
   {
    "duration": 12,
    "start_time": "2025-05-20T16:51:48.436Z"
   },
   {
    "duration": 74,
    "start_time": "2025-05-20T16:51:48.450Z"
   },
   {
    "duration": 638,
    "start_time": "2025-05-20T16:51:48.526Z"
   },
   {
    "duration": 87,
    "start_time": "2025-05-20T16:51:49.166Z"
   },
   {
    "duration": 2217,
    "start_time": "2025-05-20T16:51:49.255Z"
   },
   {
    "duration": 9,
    "start_time": "2025-05-20T16:51:51.474Z"
   },
   {
    "duration": 18,
    "start_time": "2025-05-20T16:51:51.485Z"
   },
   {
    "duration": 15,
    "start_time": "2025-05-20T16:51:51.504Z"
   },
   {
    "duration": 17,
    "start_time": "2025-05-20T16:51:51.521Z"
   },
   {
    "duration": 38733,
    "start_time": "2025-05-20T16:51:51.541Z"
   },
   {
    "duration": 231,
    "start_time": "2025-05-20T16:52:30.277Z"
   },
   {
    "duration": 1968,
    "start_time": "2025-05-20T16:52:30.510Z"
   },
   {
    "duration": 4,
    "start_time": "2025-05-20T16:52:32.480Z"
   },
   {
    "duration": 710888,
    "start_time": "2025-05-20T16:52:32.486Z"
   },
   {
    "duration": 4,
    "start_time": "2025-05-20T17:04:23.376Z"
   },
   {
    "duration": 59,
    "start_time": "2025-05-20T17:04:23.381Z"
   },
   {
    "duration": 8745,
    "start_time": "2025-05-20T17:05:33.603Z"
   },
   {
    "duration": 4,
    "start_time": "2025-05-20T17:05:42.350Z"
   },
   {
    "duration": 1017,
    "start_time": "2025-05-20T17:05:42.355Z"
   },
   {
    "duration": 11,
    "start_time": "2025-05-20T17:05:43.374Z"
   },
   {
    "duration": 47,
    "start_time": "2025-05-20T17:05:43.387Z"
   },
   {
    "duration": 48,
    "start_time": "2025-05-20T17:05:43.436Z"
   },
   {
    "duration": 988,
    "start_time": "2025-05-20T17:05:43.486Z"
   },
   {
    "duration": 456,
    "start_time": "2025-05-20T17:05:44.476Z"
   },
   {
    "duration": 2177,
    "start_time": "2025-05-20T17:05:44.934Z"
   },
   {
    "duration": 29,
    "start_time": "2025-05-20T17:05:47.113Z"
   },
   {
    "duration": 42,
    "start_time": "2025-05-20T17:05:47.143Z"
   },
   {
    "duration": 47,
    "start_time": "2025-05-20T17:05:47.186Z"
   },
   {
    "duration": 47,
    "start_time": "2025-05-20T17:05:47.235Z"
   },
   {
    "duration": 39028,
    "start_time": "2025-05-20T17:05:47.285Z"
   },
   {
    "duration": 228,
    "start_time": "2025-05-20T17:06:26.315Z"
   },
   {
    "duration": 1891,
    "start_time": "2025-05-20T17:06:26.545Z"
   },
   {
    "duration": 5,
    "start_time": "2025-05-20T17:06:28.437Z"
   },
   {
    "duration": 745713,
    "start_time": "2025-05-20T17:06:28.444Z"
   },
   {
    "duration": 4,
    "start_time": "2025-05-20T17:18:54.158Z"
   },
   {
    "duration": 8,
    "start_time": "2025-05-20T17:18:54.164Z"
   },
   {
    "duration": 8784,
    "start_time": "2025-05-20T17:21:02.339Z"
   },
   {
    "duration": 3,
    "start_time": "2025-05-20T17:21:11.126Z"
   },
   {
    "duration": 1006,
    "start_time": "2025-05-20T17:21:11.131Z"
   },
   {
    "duration": 14,
    "start_time": "2025-05-20T17:21:12.138Z"
   },
   {
    "duration": 21,
    "start_time": "2025-05-20T17:21:12.154Z"
   },
   {
    "duration": 54,
    "start_time": "2025-05-20T17:21:12.177Z"
   },
   {
    "duration": 985,
    "start_time": "2025-05-20T17:21:12.233Z"
   },
   {
    "duration": 249,
    "start_time": "2025-05-20T17:21:13.220Z"
   },
   {
    "duration": 2271,
    "start_time": "2025-05-20T17:21:13.471Z"
   },
   {
    "duration": 8,
    "start_time": "2025-05-20T17:21:15.744Z"
   },
   {
    "duration": 59,
    "start_time": "2025-05-20T17:21:15.754Z"
   },
   {
    "duration": 28,
    "start_time": "2025-05-20T17:21:15.814Z"
   },
   {
    "duration": 23,
    "start_time": "2025-05-20T17:21:15.843Z"
   },
   {
    "duration": 39040,
    "start_time": "2025-05-20T17:21:15.868Z"
   },
   {
    "duration": 231,
    "start_time": "2025-05-20T17:21:54.909Z"
   },
   {
    "duration": 1973,
    "start_time": "2025-05-20T17:21:55.142Z"
   },
   {
    "duration": 19,
    "start_time": "2025-05-20T17:21:57.117Z"
   },
   {
    "duration": 658115,
    "start_time": "2025-05-20T17:21:57.138Z"
   },
   {
    "duration": 3,
    "start_time": "2025-05-20T17:32:55.255Z"
   },
   {
    "duration": 16,
    "start_time": "2025-05-20T17:32:55.260Z"
   },
   {
    "duration": 12708,
    "start_time": "2025-05-20T17:32:55.278Z"
   },
   {
    "duration": 143,
    "start_time": "2025-05-20T18:04:19.986Z"
   },
   {
    "duration": 24,
    "start_time": "2025-05-20T18:04:31.692Z"
   },
   {
    "duration": 8,
    "start_time": "2025-05-20T18:04:58.956Z"
   },
   {
    "duration": 23,
    "start_time": "2025-05-20T18:04:59.507Z"
   },
   {
    "duration": 48,
    "start_time": "2025-05-20T18:05:14.229Z"
   },
   {
    "duration": 8816,
    "start_time": "2025-05-20T18:05:56.723Z"
   },
   {
    "duration": 3,
    "start_time": "2025-05-20T18:06:05.542Z"
   },
   {
    "duration": 1020,
    "start_time": "2025-05-20T18:06:05.546Z"
   },
   {
    "duration": 13,
    "start_time": "2025-05-20T18:06:06.567Z"
   },
   {
    "duration": 82,
    "start_time": "2025-05-20T18:06:06.582Z"
   },
   {
    "duration": 60,
    "start_time": "2025-05-20T18:06:06.666Z"
   },
   {
    "duration": 1113,
    "start_time": "2025-05-20T18:06:06.728Z"
   },
   {
    "duration": 290,
    "start_time": "2025-05-20T18:06:07.843Z"
   },
   {
    "duration": 2229,
    "start_time": "2025-05-20T18:06:08.134Z"
   },
   {
    "duration": 9,
    "start_time": "2025-05-20T18:06:10.364Z"
   },
   {
    "duration": 12,
    "start_time": "2025-05-20T18:06:10.374Z"
   },
   {
    "duration": 13,
    "start_time": "2025-05-20T18:06:10.388Z"
   },
   {
    "duration": 10,
    "start_time": "2025-05-20T18:06:10.402Z"
   },
   {
    "duration": 38421,
    "start_time": "2025-05-20T18:06:10.415Z"
   },
   {
    "duration": 303,
    "start_time": "2025-05-20T18:06:48.838Z"
   },
   {
    "duration": 1989,
    "start_time": "2025-05-20T18:06:49.143Z"
   },
   {
    "duration": 4,
    "start_time": "2025-05-20T18:06:51.137Z"
   },
   {
    "duration": 612514,
    "start_time": "2025-05-20T18:06:51.142Z"
   },
   {
    "duration": 3,
    "start_time": "2025-05-20T18:17:03.658Z"
   },
   {
    "duration": 70,
    "start_time": "2025-05-20T18:17:03.663Z"
   },
   {
    "duration": 12629,
    "start_time": "2025-05-20T18:17:03.735Z"
   },
   {
    "duration": 156,
    "start_time": "2025-05-20T18:17:16.366Z"
   },
   {
    "duration": 3633,
    "start_time": "2025-05-20T18:19:58.833Z"
   },
   {
    "duration": 4,
    "start_time": "2025-05-20T18:20:02.468Z"
   },
   {
    "duration": 1075,
    "start_time": "2025-05-20T18:20:02.473Z"
   },
   {
    "duration": 15,
    "start_time": "2025-05-20T18:20:03.549Z"
   },
   {
    "duration": 26,
    "start_time": "2025-05-20T18:20:03.566Z"
   },
   {
    "duration": 52,
    "start_time": "2025-05-20T18:20:03.594Z"
   },
   {
    "duration": 1174,
    "start_time": "2025-05-20T18:20:03.648Z"
   },
   {
    "duration": 3,
    "start_time": "2025-05-20T18:20:04.824Z"
   },
   {
    "duration": 2223,
    "start_time": "2025-05-20T18:20:04.829Z"
   },
   {
    "duration": 94,
    "start_time": "2025-05-20T18:20:07.053Z"
   },
   {
    "duration": 9,
    "start_time": "2025-05-20T18:20:07.148Z"
   },
   {
    "duration": 6,
    "start_time": "2025-05-20T18:20:07.158Z"
   },
   {
    "duration": 56,
    "start_time": "2025-05-20T18:20:07.166Z"
   },
   {
    "duration": 38591,
    "start_time": "2025-05-20T18:20:07.225Z"
   },
   {
    "duration": 228,
    "start_time": "2025-05-20T18:20:45.818Z"
   },
   {
    "duration": 1918,
    "start_time": "2025-05-20T18:20:46.049Z"
   },
   {
    "duration": 5,
    "start_time": "2025-05-20T18:20:47.969Z"
   },
   {
    "duration": 617287,
    "start_time": "2025-05-20T18:20:47.975Z"
   },
   {
    "duration": 5,
    "start_time": "2025-05-20T18:31:05.264Z"
   },
   {
    "duration": 69,
    "start_time": "2025-05-20T18:31:05.271Z"
   },
   {
    "duration": 12418,
    "start_time": "2025-05-20T18:31:05.342Z"
   },
   {
    "duration": 31,
    "start_time": "2025-05-20T18:31:17.762Z"
   },
   {
    "duration": 111,
    "start_time": "2025-05-20T18:31:17.795Z"
   },
   {
    "duration": 29,
    "start_time": "2025-05-20T18:31:17.908Z"
   },
   {
    "duration": 137,
    "start_time": "2025-05-20T18:33:15.951Z"
   },
   {
    "duration": 3,
    "start_time": "2025-05-20T18:33:39.399Z"
   },
   {
    "duration": 1060,
    "start_time": "2025-05-20T18:33:41.208Z"
   },
   {
    "duration": 119,
    "start_time": "2025-05-23T10:12:03.203Z"
   }
  ],
  "kernelspec": {
   "display_name": "Python 3 (ipykernel)",
   "language": "python",
   "name": "python3"
  },
  "language_info": {
   "codemirror_mode": {
    "name": "ipython",
    "version": 3
   },
   "file_extension": ".py",
   "mimetype": "text/x-python",
   "name": "python",
   "nbconvert_exporter": "python",
   "pygments_lexer": "ipython3",
   "version": "3.9.21"
  },
  "toc": {
   "base_numbering": 1,
   "nav_menu": {},
   "number_sections": true,
   "sideBar": true,
   "skip_h1_title": true,
   "title_cell": "Содержание",
   "title_sidebar": "Contents",
   "toc_cell": true,
   "toc_position": {
    "height": "calc(100% - 180px)",
    "left": "10px",
    "top": "150px",
    "width": "302.391px"
   },
   "toc_section_display": true,
   "toc_window_display": true
  }
 },
 "nbformat": 4,
 "nbformat_minor": 4
}
